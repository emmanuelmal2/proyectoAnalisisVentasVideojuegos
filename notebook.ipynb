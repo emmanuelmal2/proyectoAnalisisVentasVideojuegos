{
 "cells": [
  {
   "cell_type": "markdown",
   "metadata": {},
   "source": [
    "# Análisis de Ventas de Videojuegos  \n",
    "\n",
    "Este análisis explora las ventas de videojuegos según diferentes criterios como plataforma, género, y región. También examinamos la relación entre reseñas y ventas, además de realizar pruebas de hipótesis.  \n",
    "\n",
    "\n",
    "\n",
    "## 📌 Índice  \n",
    "\n",
    "1. [Preparación de Datos](#Preparar-los-datos)  \n",
    "   - [Reemplazo de Nombres de Columnas](#Remplazar-los-nombres-de-las-columnas-(minúsculas))  \n",
    "   - [Conversión de Tipos de Datos](#conversión-de-tipos-de-datos)  \n",
    "   - [Manejo de Valores Ausentes](#Tratar-los-valores-ausentes)  \n",
    "   - [Cálculo de Ventas Totales](#Calculo-de-ventas-totales)  \n",
    "\n",
    "2. [Análisis de los Datos](#Analisis-de-los-Datos)  \n",
    "   - [Número de Juegos por Año](#Número-de-juegos-lanzados-por-año)  \n",
    "   - [Ventas por Plataforma](#Ventas-por-plataforma)  \n",
    "   - [¿Cuánto tardan generalmente las nuevas plataformas en aparecer y las antiguas\n",
    "en desaparecer?](#¿Cuánto-tardan-generalmente-las-nuevas-plataformas-en-aparecer-y-las-antiguas-en-desaparecer?)  \n",
    "   - [Periodo en el que se tomaran los datos](#Periodo-en-el-que-se-tomaran-los-datos)      \n",
    "   - [Diagrama de Caja](#Ventas-globales-de-todos-los-juegos,-desglosados-por-plataforma)  \n",
    "   - [Relación entre Reseñas y Ventas](#Relación-entre-reseñas-y-ventas) \n",
    "\n",
    "3. [Perfil de Usuario por Región](#Perfil-de-usuario-para-cada-region)  \n",
    "   - [Clasificaciones ESRB y ventas](#Clasificaciones-ESRB-y-ventas)    \n",
    "\n",
    "5. [Pruebas de Hipótesis](#Pruebas-de-hipótesis)  \n",
    "   - [Calificaciones Promedio de Usuarios: Xbox One vs PC](#Calificaciones-Promedio-de-Usuarios:-Xbox-One-vs-PC)  \n",
    "   - [Calificaciones Promedio de Usuarios: Acción vs Deportes](#Calificaciones-promedio-de-usuarios-para-los-géneros-de-Acción-y-Deportes)  \n",
    "\n",
    "6. [Conclusiones](#Conclusión-general)  \n",
    " "
   ]
  },
  {
   "cell_type": "code",
   "execution_count": 6,
   "metadata": {
    "tags": [
     "e5c1f0c2-db9f-43a0-99b9-4875c52427e8"
    ]
   },
   "outputs": [],
   "source": [
    "# Importando las librerias necesarias\n",
    "import pandas as pd\n",
    "import matplotlib.pyplot as plt"
   ]
  },
  {
   "cell_type": "code",
   "execution_count": 7,
   "metadata": {},
   "outputs": [],
   "source": [
    "games = pd.read_csv(\"dataset/games.csv\")"
   ]
  },
  {
   "cell_type": "code",
   "execution_count": 8,
   "metadata": {},
   "outputs": [
    {
     "name": "stdout",
     "output_type": "stream",
     "text": [
      "<class 'pandas.core.frame.DataFrame'>\n",
      "RangeIndex: 16715 entries, 0 to 16714\n",
      "Data columns (total 11 columns):\n",
      " #   Column           Non-Null Count  Dtype  \n",
      "---  ------           --------------  -----  \n",
      " 0   Name             16713 non-null  object \n",
      " 1   Platform         16715 non-null  object \n",
      " 2   Year_of_Release  16446 non-null  float64\n",
      " 3   Genre            16713 non-null  object \n",
      " 4   NA_sales         16715 non-null  float64\n",
      " 5   EU_sales         16715 non-null  float64\n",
      " 6   JP_sales         16715 non-null  float64\n",
      " 7   Other_sales      16715 non-null  float64\n",
      " 8   Critic_Score     8137 non-null   float64\n",
      " 9   User_Score       10014 non-null  object \n",
      " 10  Rating           9949 non-null   object \n",
      "dtypes: float64(6), object(5)\n",
      "memory usage: 1.4+ MB\n",
      "None\n"
     ]
    }
   ],
   "source": [
    "print(games.info())\n"
   ]
  },
  {
   "cell_type": "code",
   "execution_count": 9,
   "metadata": {},
   "outputs": [
    {
     "data": {
      "text/html": [
       "<div>\n",
       "<style scoped>\n",
       "    .dataframe tbody tr th:only-of-type {\n",
       "        vertical-align: middle;\n",
       "    }\n",
       "\n",
       "    .dataframe tbody tr th {\n",
       "        vertical-align: top;\n",
       "    }\n",
       "\n",
       "    .dataframe thead th {\n",
       "        text-align: right;\n",
       "    }\n",
       "</style>\n",
       "<table border=\"1\" class=\"dataframe\">\n",
       "  <thead>\n",
       "    <tr style=\"text-align: right;\">\n",
       "      <th></th>\n",
       "      <th>Name</th>\n",
       "      <th>Platform</th>\n",
       "      <th>Year_of_Release</th>\n",
       "      <th>Genre</th>\n",
       "      <th>NA_sales</th>\n",
       "      <th>EU_sales</th>\n",
       "      <th>JP_sales</th>\n",
       "      <th>Other_sales</th>\n",
       "      <th>Critic_Score</th>\n",
       "      <th>User_Score</th>\n",
       "      <th>Rating</th>\n",
       "    </tr>\n",
       "  </thead>\n",
       "  <tbody>\n",
       "    <tr>\n",
       "      <th>12571</th>\n",
       "      <td>Smile PreCure! Let's Go! Marchen World</td>\n",
       "      <td>3DS</td>\n",
       "      <td>2012.0</td>\n",
       "      <td>Action</td>\n",
       "      <td>0.00</td>\n",
       "      <td>0.00</td>\n",
       "      <td>0.06</td>\n",
       "      <td>0.00</td>\n",
       "      <td>NaN</td>\n",
       "      <td>NaN</td>\n",
       "      <td>NaN</td>\n",
       "    </tr>\n",
       "    <tr>\n",
       "      <th>8375</th>\n",
       "      <td>Final Fantasy V</td>\n",
       "      <td>PS</td>\n",
       "      <td>1998.0</td>\n",
       "      <td>Role-Playing</td>\n",
       "      <td>0.00</td>\n",
       "      <td>0.00</td>\n",
       "      <td>0.16</td>\n",
       "      <td>0.01</td>\n",
       "      <td>NaN</td>\n",
       "      <td>NaN</td>\n",
       "      <td>NaN</td>\n",
       "    </tr>\n",
       "    <tr>\n",
       "      <th>9328</th>\n",
       "      <td>Bratz</td>\n",
       "      <td>GBA</td>\n",
       "      <td>2002.0</td>\n",
       "      <td>Platform</td>\n",
       "      <td>0.10</td>\n",
       "      <td>0.04</td>\n",
       "      <td>0.00</td>\n",
       "      <td>0.00</td>\n",
       "      <td>NaN</td>\n",
       "      <td>tbd</td>\n",
       "      <td>E</td>\n",
       "    </tr>\n",
       "    <tr>\n",
       "      <th>9383</th>\n",
       "      <td>Castrol Honda Superbike Racing</td>\n",
       "      <td>PS</td>\n",
       "      <td>1998.0</td>\n",
       "      <td>Racing</td>\n",
       "      <td>0.07</td>\n",
       "      <td>0.05</td>\n",
       "      <td>0.00</td>\n",
       "      <td>0.01</td>\n",
       "      <td>NaN</td>\n",
       "      <td>NaN</td>\n",
       "      <td>NaN</td>\n",
       "    </tr>\n",
       "    <tr>\n",
       "      <th>15790</th>\n",
       "      <td>This War of Mine</td>\n",
       "      <td>PS4</td>\n",
       "      <td>2016.0</td>\n",
       "      <td>Action</td>\n",
       "      <td>0.00</td>\n",
       "      <td>0.01</td>\n",
       "      <td>0.00</td>\n",
       "      <td>0.00</td>\n",
       "      <td>NaN</td>\n",
       "      <td>NaN</td>\n",
       "      <td>NaN</td>\n",
       "    </tr>\n",
       "    <tr>\n",
       "      <th>3862</th>\n",
       "      <td>Frozen: Olaf's Quest</td>\n",
       "      <td>DS</td>\n",
       "      <td>2013.0</td>\n",
       "      <td>Platform</td>\n",
       "      <td>0.21</td>\n",
       "      <td>0.26</td>\n",
       "      <td>0.00</td>\n",
       "      <td>0.04</td>\n",
       "      <td>NaN</td>\n",
       "      <td>NaN</td>\n",
       "      <td>NaN</td>\n",
       "    </tr>\n",
       "    <tr>\n",
       "      <th>16041</th>\n",
       "      <td>Iron Soldier 3</td>\n",
       "      <td>PS</td>\n",
       "      <td>1999.0</td>\n",
       "      <td>Simulation</td>\n",
       "      <td>0.01</td>\n",
       "      <td>0.01</td>\n",
       "      <td>0.00</td>\n",
       "      <td>0.00</td>\n",
       "      <td>NaN</td>\n",
       "      <td>NaN</td>\n",
       "      <td>NaN</td>\n",
       "    </tr>\n",
       "    <tr>\n",
       "      <th>3431</th>\n",
       "      <td>Tokimeki Memorial: Forever with You</td>\n",
       "      <td>PS</td>\n",
       "      <td>1995.0</td>\n",
       "      <td>Simulation</td>\n",
       "      <td>0.00</td>\n",
       "      <td>0.00</td>\n",
       "      <td>0.55</td>\n",
       "      <td>0.04</td>\n",
       "      <td>NaN</td>\n",
       "      <td>NaN</td>\n",
       "      <td>NaN</td>\n",
       "    </tr>\n",
       "    <tr>\n",
       "      <th>7896</th>\n",
       "      <td>Nobunaga no Yabou: Souzou</td>\n",
       "      <td>PS3</td>\n",
       "      <td>2013.0</td>\n",
       "      <td>Strategy</td>\n",
       "      <td>0.00</td>\n",
       "      <td>0.00</td>\n",
       "      <td>0.19</td>\n",
       "      <td>0.00</td>\n",
       "      <td>NaN</td>\n",
       "      <td>NaN</td>\n",
       "      <td>NaN</td>\n",
       "    </tr>\n",
       "    <tr>\n",
       "      <th>1555</th>\n",
       "      <td>Atlantis</td>\n",
       "      <td>2600</td>\n",
       "      <td>1981.0</td>\n",
       "      <td>Shooter</td>\n",
       "      <td>1.18</td>\n",
       "      <td>0.08</td>\n",
       "      <td>0.00</td>\n",
       "      <td>0.01</td>\n",
       "      <td>NaN</td>\n",
       "      <td>NaN</td>\n",
       "      <td>NaN</td>\n",
       "    </tr>\n",
       "  </tbody>\n",
       "</table>\n",
       "</div>"
      ],
      "text/plain": [
       "                                         Name Platform  Year_of_Release  \\\n",
       "12571  Smile PreCure! Let's Go! Marchen World      3DS           2012.0   \n",
       "8375                          Final Fantasy V       PS           1998.0   \n",
       "9328                                    Bratz      GBA           2002.0   \n",
       "9383           Castrol Honda Superbike Racing       PS           1998.0   \n",
       "15790                        This War of Mine      PS4           2016.0   \n",
       "3862                     Frozen: Olaf's Quest       DS           2013.0   \n",
       "16041                          Iron Soldier 3       PS           1999.0   \n",
       "3431      Tokimeki Memorial: Forever with You       PS           1995.0   \n",
       "7896                Nobunaga no Yabou: Souzou      PS3           2013.0   \n",
       "1555                                 Atlantis     2600           1981.0   \n",
       "\n",
       "              Genre  NA_sales  EU_sales  JP_sales  Other_sales  Critic_Score  \\\n",
       "12571        Action      0.00      0.00      0.06         0.00           NaN   \n",
       "8375   Role-Playing      0.00      0.00      0.16         0.01           NaN   \n",
       "9328       Platform      0.10      0.04      0.00         0.00           NaN   \n",
       "9383         Racing      0.07      0.05      0.00         0.01           NaN   \n",
       "15790        Action      0.00      0.01      0.00         0.00           NaN   \n",
       "3862       Platform      0.21      0.26      0.00         0.04           NaN   \n",
       "16041    Simulation      0.01      0.01      0.00         0.00           NaN   \n",
       "3431     Simulation      0.00      0.00      0.55         0.04           NaN   \n",
       "7896       Strategy      0.00      0.00      0.19         0.00           NaN   \n",
       "1555        Shooter      1.18      0.08      0.00         0.01           NaN   \n",
       "\n",
       "      User_Score Rating  \n",
       "12571        NaN    NaN  \n",
       "8375         NaN    NaN  \n",
       "9328         tbd      E  \n",
       "9383         NaN    NaN  \n",
       "15790        NaN    NaN  \n",
       "3862         NaN    NaN  \n",
       "16041        NaN    NaN  \n",
       "3431         NaN    NaN  \n",
       "7896         NaN    NaN  \n",
       "1555         NaN    NaN  "
      ]
     },
     "metadata": {},
     "output_type": "display_data"
    }
   ],
   "source": [
    "display(games.sample(10))"
   ]
  },
  {
   "cell_type": "markdown",
   "metadata": {},
   "source": [
    "# Preparar los datos"
   ]
  },
  {
   "cell_type": "markdown",
   "metadata": {},
   "source": [
    "## Remplazar los nombres de las columnas (minúsculas)"
   ]
  },
  {
   "cell_type": "code",
   "execution_count": 10,
   "metadata": {},
   "outputs": [
    {
     "name": "stdout",
     "output_type": "stream",
     "text": [
      "Index(['name', 'platform', 'year_of_release', 'genre', 'na_sales', 'eu_sales',\n",
      "       'jp_sales', 'other_sales', 'critic_score', 'user_score', 'rating'],\n",
      "      dtype='object')\n"
     ]
    }
   ],
   "source": [
    "# Remplanzado el nombre de las columnas por minusculas \n",
    "\n",
    "games.columns = games.columns.str.lower()\n",
    "print(games.columns)"
   ]
  },
  {
   "cell_type": "markdown",
   "metadata": {},
   "source": [
    "Para facilitar el manejo de los datos, cambié los nombres de las columnas a minúsculas. Esto evita errores al acceder a las columnas y hace que el código sea más consistente."
   ]
  },
  {
   "cell_type": "markdown",
   "metadata": {},
   "source": [
    "## Conversion de tipos de datos"
   ]
  },
  {
   "cell_type": "markdown",
   "metadata": {},
   "source": [
    "### columna user_score"
   ]
  },
  {
   "cell_type": "code",
   "execution_count": 11,
   "metadata": {},
   "outputs": [
    {
     "data": {
      "text/html": [
       "<div>\n",
       "<style scoped>\n",
       "    .dataframe tbody tr th:only-of-type {\n",
       "        vertical-align: middle;\n",
       "    }\n",
       "\n",
       "    .dataframe tbody tr th {\n",
       "        vertical-align: top;\n",
       "    }\n",
       "\n",
       "    .dataframe thead th {\n",
       "        text-align: right;\n",
       "    }\n",
       "</style>\n",
       "<table border=\"1\" class=\"dataframe\">\n",
       "  <thead>\n",
       "    <tr style=\"text-align: right;\">\n",
       "      <th></th>\n",
       "      <th>name</th>\n",
       "      <th>platform</th>\n",
       "      <th>year_of_release</th>\n",
       "      <th>genre</th>\n",
       "      <th>na_sales</th>\n",
       "      <th>eu_sales</th>\n",
       "      <th>jp_sales</th>\n",
       "      <th>other_sales</th>\n",
       "      <th>critic_score</th>\n",
       "      <th>user_score</th>\n",
       "      <th>rating</th>\n",
       "    </tr>\n",
       "  </thead>\n",
       "  <tbody>\n",
       "    <tr>\n",
       "      <th>119</th>\n",
       "      <td>Zumba Fitness</td>\n",
       "      <td>Wii</td>\n",
       "      <td>2010.0</td>\n",
       "      <td>Sports</td>\n",
       "      <td>3.45</td>\n",
       "      <td>2.59</td>\n",
       "      <td>0.0</td>\n",
       "      <td>0.66</td>\n",
       "      <td>NaN</td>\n",
       "      <td>tbd</td>\n",
       "      <td>E</td>\n",
       "    </tr>\n",
       "    <tr>\n",
       "      <th>301</th>\n",
       "      <td>Namco Museum: 50th Anniversary</td>\n",
       "      <td>PS2</td>\n",
       "      <td>2005.0</td>\n",
       "      <td>Misc</td>\n",
       "      <td>2.08</td>\n",
       "      <td>1.35</td>\n",
       "      <td>0.0</td>\n",
       "      <td>0.54</td>\n",
       "      <td>61.0</td>\n",
       "      <td>tbd</td>\n",
       "      <td>E10+</td>\n",
       "    </tr>\n",
       "    <tr>\n",
       "      <th>520</th>\n",
       "      <td>Zumba Fitness 2</td>\n",
       "      <td>Wii</td>\n",
       "      <td>2011.0</td>\n",
       "      <td>Sports</td>\n",
       "      <td>1.51</td>\n",
       "      <td>1.03</td>\n",
       "      <td>0.0</td>\n",
       "      <td>0.27</td>\n",
       "      <td>NaN</td>\n",
       "      <td>tbd</td>\n",
       "      <td>T</td>\n",
       "    </tr>\n",
       "    <tr>\n",
       "      <th>645</th>\n",
       "      <td>uDraw Studio</td>\n",
       "      <td>Wii</td>\n",
       "      <td>2010.0</td>\n",
       "      <td>Misc</td>\n",
       "      <td>1.65</td>\n",
       "      <td>0.57</td>\n",
       "      <td>0.0</td>\n",
       "      <td>0.20</td>\n",
       "      <td>71.0</td>\n",
       "      <td>tbd</td>\n",
       "      <td>E</td>\n",
       "    </tr>\n",
       "    <tr>\n",
       "      <th>657</th>\n",
       "      <td>Frogger's Adventures: Temple of the Frog</td>\n",
       "      <td>GBA</td>\n",
       "      <td>NaN</td>\n",
       "      <td>Adventure</td>\n",
       "      <td>2.15</td>\n",
       "      <td>0.18</td>\n",
       "      <td>0.0</td>\n",
       "      <td>0.07</td>\n",
       "      <td>73.0</td>\n",
       "      <td>tbd</td>\n",
       "      <td>E</td>\n",
       "    </tr>\n",
       "    <tr>\n",
       "      <th>...</th>\n",
       "      <td>...</td>\n",
       "      <td>...</td>\n",
       "      <td>...</td>\n",
       "      <td>...</td>\n",
       "      <td>...</td>\n",
       "      <td>...</td>\n",
       "      <td>...</td>\n",
       "      <td>...</td>\n",
       "      <td>...</td>\n",
       "      <td>...</td>\n",
       "      <td>...</td>\n",
       "    </tr>\n",
       "    <tr>\n",
       "      <th>16695</th>\n",
       "      <td>Planet Monsters</td>\n",
       "      <td>GBA</td>\n",
       "      <td>2001.0</td>\n",
       "      <td>Action</td>\n",
       "      <td>0.01</td>\n",
       "      <td>0.00</td>\n",
       "      <td>0.0</td>\n",
       "      <td>0.00</td>\n",
       "      <td>67.0</td>\n",
       "      <td>tbd</td>\n",
       "      <td>E</td>\n",
       "    </tr>\n",
       "    <tr>\n",
       "      <th>16697</th>\n",
       "      <td>Bust-A-Move 3000</td>\n",
       "      <td>GC</td>\n",
       "      <td>2003.0</td>\n",
       "      <td>Puzzle</td>\n",
       "      <td>0.01</td>\n",
       "      <td>0.00</td>\n",
       "      <td>0.0</td>\n",
       "      <td>0.00</td>\n",
       "      <td>53.0</td>\n",
       "      <td>tbd</td>\n",
       "      <td>E</td>\n",
       "    </tr>\n",
       "    <tr>\n",
       "      <th>16698</th>\n",
       "      <td>Mega Brain Boost</td>\n",
       "      <td>DS</td>\n",
       "      <td>2008.0</td>\n",
       "      <td>Puzzle</td>\n",
       "      <td>0.01</td>\n",
       "      <td>0.00</td>\n",
       "      <td>0.0</td>\n",
       "      <td>0.00</td>\n",
       "      <td>48.0</td>\n",
       "      <td>tbd</td>\n",
       "      <td>E</td>\n",
       "    </tr>\n",
       "    <tr>\n",
       "      <th>16704</th>\n",
       "      <td>Plushees</td>\n",
       "      <td>DS</td>\n",
       "      <td>2008.0</td>\n",
       "      <td>Simulation</td>\n",
       "      <td>0.01</td>\n",
       "      <td>0.00</td>\n",
       "      <td>0.0</td>\n",
       "      <td>0.00</td>\n",
       "      <td>NaN</td>\n",
       "      <td>tbd</td>\n",
       "      <td>E</td>\n",
       "    </tr>\n",
       "    <tr>\n",
       "      <th>16706</th>\n",
       "      <td>Men in Black II: Alien Escape</td>\n",
       "      <td>GC</td>\n",
       "      <td>2003.0</td>\n",
       "      <td>Shooter</td>\n",
       "      <td>0.01</td>\n",
       "      <td>0.00</td>\n",
       "      <td>0.0</td>\n",
       "      <td>0.00</td>\n",
       "      <td>NaN</td>\n",
       "      <td>tbd</td>\n",
       "      <td>T</td>\n",
       "    </tr>\n",
       "  </tbody>\n",
       "</table>\n",
       "<p>2424 rows × 11 columns</p>\n",
       "</div>"
      ],
      "text/plain": [
       "                                           name platform  year_of_release  \\\n",
       "119                               Zumba Fitness      Wii           2010.0   \n",
       "301              Namco Museum: 50th Anniversary      PS2           2005.0   \n",
       "520                             Zumba Fitness 2      Wii           2011.0   \n",
       "645                                uDraw Studio      Wii           2010.0   \n",
       "657    Frogger's Adventures: Temple of the Frog      GBA              NaN   \n",
       "...                                         ...      ...              ...   \n",
       "16695                           Planet Monsters      GBA           2001.0   \n",
       "16697                          Bust-A-Move 3000       GC           2003.0   \n",
       "16698                          Mega Brain Boost       DS           2008.0   \n",
       "16704                                  Plushees       DS           2008.0   \n",
       "16706             Men in Black II: Alien Escape       GC           2003.0   \n",
       "\n",
       "            genre  na_sales  eu_sales  jp_sales  other_sales  critic_score  \\\n",
       "119        Sports      3.45      2.59       0.0         0.66           NaN   \n",
       "301          Misc      2.08      1.35       0.0         0.54          61.0   \n",
       "520        Sports      1.51      1.03       0.0         0.27           NaN   \n",
       "645          Misc      1.65      0.57       0.0         0.20          71.0   \n",
       "657     Adventure      2.15      0.18       0.0         0.07          73.0   \n",
       "...           ...       ...       ...       ...          ...           ...   \n",
       "16695      Action      0.01      0.00       0.0         0.00          67.0   \n",
       "16697      Puzzle      0.01      0.00       0.0         0.00          53.0   \n",
       "16698      Puzzle      0.01      0.00       0.0         0.00          48.0   \n",
       "16704  Simulation      0.01      0.00       0.0         0.00           NaN   \n",
       "16706     Shooter      0.01      0.00       0.0         0.00           NaN   \n",
       "\n",
       "      user_score rating  \n",
       "119          tbd      E  \n",
       "301          tbd   E10+  \n",
       "520          tbd      T  \n",
       "645          tbd      E  \n",
       "657          tbd      E  \n",
       "...          ...    ...  \n",
       "16695        tbd      E  \n",
       "16697        tbd      E  \n",
       "16698        tbd      E  \n",
       "16704        tbd      E  \n",
       "16706        tbd      T  \n",
       "\n",
       "[2424 rows x 11 columns]"
      ]
     },
     "metadata": {},
     "output_type": "display_data"
    }
   ],
   "source": [
    "# Checando los valores con tbd\n",
    "display(games[games['user_score'] == 'tbd'])"
   ]
  },
  {
   "cell_type": "code",
   "execution_count": 12,
   "metadata": {},
   "outputs": [],
   "source": [
    "# Para poder pasarlo a NaN debemos de especificar el parametro de erros como 'coerce' para converir valores no numéricos en NaN\n",
    "games['user_score'] = pd.to_numeric(games['user_score'], errors = 'coerce')"
   ]
  },
  {
   "cell_type": "code",
   "execution_count": 13,
   "metadata": {},
   "outputs": [],
   "source": [
    "# Convertimos la celda a tipo numerico \n",
    "games['user_score'] = pd.to_numeric(games['user_score'])"
   ]
  },
  {
   "cell_type": "code",
   "execution_count": 14,
   "metadata": {},
   "outputs": [
    {
     "name": "stdout",
     "output_type": "stream",
     "text": [
      "float64\n"
     ]
    }
   ],
   "source": [
    "# Comprobando los resultados\n",
    "print(games['user_score'].dtype)"
   ]
  },
  {
   "cell_type": "markdown",
   "metadata": {},
   "source": [
    "Para facilitar el manejo de los datos, cambié los nombres de las columnas a minúsculas. Esto evita errores al acceder a las columnas y hace que el código sea más consistente.Se convierte a float para permitir operaciones matemáticas y análisis estadístico. Los valores \"tbd\" se convierten en NaN porque no representan un valor numérico."
   ]
  },
  {
   "cell_type": "markdown",
   "metadata": {},
   "source": [
    "### Columna year_of_release"
   ]
  },
  {
   "cell_type": "markdown",
   "metadata": {},
   "source": [
    "Actualmente es de tipo float64, pero debería ser de tipo int si los años son enteros."
   ]
  },
  {
   "cell_type": "code",
   "execution_count": 15,
   "metadata": {},
   "outputs": [],
   "source": [
    "games['year_of_release'] = pd.to_numeric(games['year_of_release'], errors='coerce')"
   ]
  },
  {
   "cell_type": "code",
   "execution_count": 16,
   "metadata": {},
   "outputs": [
    {
     "name": "stdout",
     "output_type": "stream",
     "text": [
      "float64\n"
     ]
    }
   ],
   "source": [
    "# Comprobando\n",
    "print(games['year_of_release'].dtype)"
   ]
  },
  {
   "cell_type": "markdown",
   "metadata": {},
   "source": [
    "Aunque los años deberían ser enteros, decidí convertirlos a float64 para manejar mejor los valores ausentes. Esto no afecta el análisis, ya que los años siguen siendo números."
   ]
  },
  {
   "cell_type": "markdown",
   "metadata": {},
   "source": [
    "##  Tratar los valores ausentes"
   ]
  },
  {
   "cell_type": "markdown",
   "metadata": {},
   "source": [
    "### Columna genre y name"
   ]
  },
  {
   "cell_type": "code",
   "execution_count": 17,
   "metadata": {},
   "outputs": [
    {
     "data": {
      "text/html": [
       "<div>\n",
       "<style scoped>\n",
       "    .dataframe tbody tr th:only-of-type {\n",
       "        vertical-align: middle;\n",
       "    }\n",
       "\n",
       "    .dataframe tbody tr th {\n",
       "        vertical-align: top;\n",
       "    }\n",
       "\n",
       "    .dataframe thead th {\n",
       "        text-align: right;\n",
       "    }\n",
       "</style>\n",
       "<table border=\"1\" class=\"dataframe\">\n",
       "  <thead>\n",
       "    <tr style=\"text-align: right;\">\n",
       "      <th></th>\n",
       "      <th>name</th>\n",
       "      <th>platform</th>\n",
       "      <th>year_of_release</th>\n",
       "      <th>genre</th>\n",
       "      <th>na_sales</th>\n",
       "      <th>eu_sales</th>\n",
       "      <th>jp_sales</th>\n",
       "      <th>other_sales</th>\n",
       "      <th>critic_score</th>\n",
       "      <th>user_score</th>\n",
       "      <th>rating</th>\n",
       "    </tr>\n",
       "  </thead>\n",
       "  <tbody>\n",
       "    <tr>\n",
       "      <th>659</th>\n",
       "      <td>NaN</td>\n",
       "      <td>GEN</td>\n",
       "      <td>1993.0</td>\n",
       "      <td>NaN</td>\n",
       "      <td>1.78</td>\n",
       "      <td>0.53</td>\n",
       "      <td>0.00</td>\n",
       "      <td>0.08</td>\n",
       "      <td>NaN</td>\n",
       "      <td>NaN</td>\n",
       "      <td>NaN</td>\n",
       "    </tr>\n",
       "    <tr>\n",
       "      <th>14244</th>\n",
       "      <td>NaN</td>\n",
       "      <td>GEN</td>\n",
       "      <td>1993.0</td>\n",
       "      <td>NaN</td>\n",
       "      <td>0.00</td>\n",
       "      <td>0.00</td>\n",
       "      <td>0.03</td>\n",
       "      <td>0.00</td>\n",
       "      <td>NaN</td>\n",
       "      <td>NaN</td>\n",
       "      <td>NaN</td>\n",
       "    </tr>\n",
       "  </tbody>\n",
       "</table>\n",
       "</div>"
      ],
      "text/plain": [
       "      name platform  year_of_release genre  na_sales  eu_sales  jp_sales  \\\n",
       "659    NaN      GEN           1993.0   NaN      1.78      0.53      0.00   \n",
       "14244  NaN      GEN           1993.0   NaN      0.00      0.00      0.03   \n",
       "\n",
       "       other_sales  critic_score  user_score rating  \n",
       "659           0.08           NaN         NaN    NaN  \n",
       "14244         0.00           NaN         NaN    NaN  "
      ]
     },
     "metadata": {},
     "output_type": "display_data"
    }
   ],
   "source": [
    "# columna name\n",
    "display(games[games['name'].isna()])"
   ]
  },
  {
   "cell_type": "code",
   "execution_count": 18,
   "metadata": {},
   "outputs": [
    {
     "data": {
      "text/html": [
       "<div>\n",
       "<style scoped>\n",
       "    .dataframe tbody tr th:only-of-type {\n",
       "        vertical-align: middle;\n",
       "    }\n",
       "\n",
       "    .dataframe tbody tr th {\n",
       "        vertical-align: top;\n",
       "    }\n",
       "\n",
       "    .dataframe thead th {\n",
       "        text-align: right;\n",
       "    }\n",
       "</style>\n",
       "<table border=\"1\" class=\"dataframe\">\n",
       "  <thead>\n",
       "    <tr style=\"text-align: right;\">\n",
       "      <th></th>\n",
       "      <th>name</th>\n",
       "      <th>platform</th>\n",
       "      <th>year_of_release</th>\n",
       "      <th>genre</th>\n",
       "      <th>na_sales</th>\n",
       "      <th>eu_sales</th>\n",
       "      <th>jp_sales</th>\n",
       "      <th>other_sales</th>\n",
       "      <th>critic_score</th>\n",
       "      <th>user_score</th>\n",
       "      <th>rating</th>\n",
       "    </tr>\n",
       "  </thead>\n",
       "  <tbody>\n",
       "    <tr>\n",
       "      <th>659</th>\n",
       "      <td>NaN</td>\n",
       "      <td>GEN</td>\n",
       "      <td>1993.0</td>\n",
       "      <td>NaN</td>\n",
       "      <td>1.78</td>\n",
       "      <td>0.53</td>\n",
       "      <td>0.00</td>\n",
       "      <td>0.08</td>\n",
       "      <td>NaN</td>\n",
       "      <td>NaN</td>\n",
       "      <td>NaN</td>\n",
       "    </tr>\n",
       "    <tr>\n",
       "      <th>14244</th>\n",
       "      <td>NaN</td>\n",
       "      <td>GEN</td>\n",
       "      <td>1993.0</td>\n",
       "      <td>NaN</td>\n",
       "      <td>0.00</td>\n",
       "      <td>0.00</td>\n",
       "      <td>0.03</td>\n",
       "      <td>0.00</td>\n",
       "      <td>NaN</td>\n",
       "      <td>NaN</td>\n",
       "      <td>NaN</td>\n",
       "    </tr>\n",
       "  </tbody>\n",
       "</table>\n",
       "</div>"
      ],
      "text/plain": [
       "      name platform  year_of_release genre  na_sales  eu_sales  jp_sales  \\\n",
       "659    NaN      GEN           1993.0   NaN      1.78      0.53      0.00   \n",
       "14244  NaN      GEN           1993.0   NaN      0.00      0.00      0.03   \n",
       "\n",
       "       other_sales  critic_score  user_score rating  \n",
       "659           0.08           NaN         NaN    NaN  \n",
       "14244         0.00           NaN         NaN    NaN  "
      ]
     },
     "metadata": {},
     "output_type": "display_data"
    }
   ],
   "source": [
    "# columna genre\n",
    "display(games[games['genre'].isna()])"
   ]
  },
  {
   "cell_type": "markdown",
   "metadata": {},
   "source": [
    "Como la fila 14244 no contiene informacion relevante la podemos eliminar"
   ]
  },
  {
   "cell_type": "code",
   "execution_count": 19,
   "metadata": {},
   "outputs": [],
   "source": [
    "games = games.drop(index=14244)  # Esto elimina solo la fila con índice 659\n"
   ]
  },
  {
   "cell_type": "markdown",
   "metadata": {},
   "source": [
    "En el caso de la fila 659 la podemos mantener por las ventas que tuvieron en na_sales y eu_sales"
   ]
  },
  {
   "cell_type": "code",
   "execution_count": 20,
   "metadata": {},
   "outputs": [],
   "source": [
    "games.loc[659, 'name'] = \"Unknown\"\n",
    "games.loc[659, 'genre'] = \"Unknown\"\n"
   ]
  },
  {
   "cell_type": "markdown",
   "metadata": {},
   "source": [
    "Encontramos algunas filas donde el nombre del juego o el género estaban ausentes. Decidí rellenar estos valores con \"Unknown\" para mantener la integridad de los datos. Esto es útil porque no podemos imputar valores categóricos como el nombre o el género."
   ]
  },
  {
   "cell_type": "markdown",
   "metadata": {},
   "source": [
    "### Columnas crtitic_score, user_score y rating"
   ]
  },
  {
   "cell_type": "code",
   "execution_count": 21,
   "metadata": {},
   "outputs": [
    {
     "data": {
      "text/html": [
       "<div>\n",
       "<style scoped>\n",
       "    .dataframe tbody tr th:only-of-type {\n",
       "        vertical-align: middle;\n",
       "    }\n",
       "\n",
       "    .dataframe tbody tr th {\n",
       "        vertical-align: top;\n",
       "    }\n",
       "\n",
       "    .dataframe thead th {\n",
       "        text-align: right;\n",
       "    }\n",
       "</style>\n",
       "<table border=\"1\" class=\"dataframe\">\n",
       "  <thead>\n",
       "    <tr style=\"text-align: right;\">\n",
       "      <th></th>\n",
       "      <th>name</th>\n",
       "      <th>platform</th>\n",
       "      <th>year_of_release</th>\n",
       "      <th>genre</th>\n",
       "      <th>na_sales</th>\n",
       "      <th>eu_sales</th>\n",
       "      <th>jp_sales</th>\n",
       "      <th>other_sales</th>\n",
       "      <th>critic_score</th>\n",
       "      <th>user_score</th>\n",
       "      <th>rating</th>\n",
       "    </tr>\n",
       "  </thead>\n",
       "  <tbody>\n",
       "    <tr>\n",
       "      <th>1</th>\n",
       "      <td>Super Mario Bros.</td>\n",
       "      <td>NES</td>\n",
       "      <td>1985.0</td>\n",
       "      <td>Platform</td>\n",
       "      <td>29.08</td>\n",
       "      <td>3.58</td>\n",
       "      <td>6.81</td>\n",
       "      <td>0.77</td>\n",
       "      <td>NaN</td>\n",
       "      <td>NaN</td>\n",
       "      <td>NaN</td>\n",
       "    </tr>\n",
       "    <tr>\n",
       "      <th>4</th>\n",
       "      <td>Pokemon Red/Pokemon Blue</td>\n",
       "      <td>GB</td>\n",
       "      <td>1996.0</td>\n",
       "      <td>Role-Playing</td>\n",
       "      <td>11.27</td>\n",
       "      <td>8.89</td>\n",
       "      <td>10.22</td>\n",
       "      <td>1.00</td>\n",
       "      <td>NaN</td>\n",
       "      <td>NaN</td>\n",
       "      <td>NaN</td>\n",
       "    </tr>\n",
       "    <tr>\n",
       "      <th>5</th>\n",
       "      <td>Tetris</td>\n",
       "      <td>GB</td>\n",
       "      <td>1989.0</td>\n",
       "      <td>Puzzle</td>\n",
       "      <td>23.20</td>\n",
       "      <td>2.26</td>\n",
       "      <td>4.22</td>\n",
       "      <td>0.58</td>\n",
       "      <td>NaN</td>\n",
       "      <td>NaN</td>\n",
       "      <td>NaN</td>\n",
       "    </tr>\n",
       "    <tr>\n",
       "      <th>9</th>\n",
       "      <td>Duck Hunt</td>\n",
       "      <td>NES</td>\n",
       "      <td>1984.0</td>\n",
       "      <td>Shooter</td>\n",
       "      <td>26.93</td>\n",
       "      <td>0.63</td>\n",
       "      <td>0.28</td>\n",
       "      <td>0.47</td>\n",
       "      <td>NaN</td>\n",
       "      <td>NaN</td>\n",
       "      <td>NaN</td>\n",
       "    </tr>\n",
       "    <tr>\n",
       "      <th>10</th>\n",
       "      <td>Nintendogs</td>\n",
       "      <td>DS</td>\n",
       "      <td>2005.0</td>\n",
       "      <td>Simulation</td>\n",
       "      <td>9.05</td>\n",
       "      <td>10.95</td>\n",
       "      <td>1.93</td>\n",
       "      <td>2.74</td>\n",
       "      <td>NaN</td>\n",
       "      <td>NaN</td>\n",
       "      <td>NaN</td>\n",
       "    </tr>\n",
       "    <tr>\n",
       "      <th>...</th>\n",
       "      <td>...</td>\n",
       "      <td>...</td>\n",
       "      <td>...</td>\n",
       "      <td>...</td>\n",
       "      <td>...</td>\n",
       "      <td>...</td>\n",
       "      <td>...</td>\n",
       "      <td>...</td>\n",
       "      <td>...</td>\n",
       "      <td>...</td>\n",
       "      <td>...</td>\n",
       "    </tr>\n",
       "    <tr>\n",
       "      <th>16710</th>\n",
       "      <td>Samurai Warriors: Sanada Maru</td>\n",
       "      <td>PS3</td>\n",
       "      <td>2016.0</td>\n",
       "      <td>Action</td>\n",
       "      <td>0.00</td>\n",
       "      <td>0.00</td>\n",
       "      <td>0.01</td>\n",
       "      <td>0.00</td>\n",
       "      <td>NaN</td>\n",
       "      <td>NaN</td>\n",
       "      <td>NaN</td>\n",
       "    </tr>\n",
       "    <tr>\n",
       "      <th>16711</th>\n",
       "      <td>LMA Manager 2007</td>\n",
       "      <td>X360</td>\n",
       "      <td>2006.0</td>\n",
       "      <td>Sports</td>\n",
       "      <td>0.00</td>\n",
       "      <td>0.01</td>\n",
       "      <td>0.00</td>\n",
       "      <td>0.00</td>\n",
       "      <td>NaN</td>\n",
       "      <td>NaN</td>\n",
       "      <td>NaN</td>\n",
       "    </tr>\n",
       "    <tr>\n",
       "      <th>16712</th>\n",
       "      <td>Haitaka no Psychedelica</td>\n",
       "      <td>PSV</td>\n",
       "      <td>2016.0</td>\n",
       "      <td>Adventure</td>\n",
       "      <td>0.00</td>\n",
       "      <td>0.00</td>\n",
       "      <td>0.01</td>\n",
       "      <td>0.00</td>\n",
       "      <td>NaN</td>\n",
       "      <td>NaN</td>\n",
       "      <td>NaN</td>\n",
       "    </tr>\n",
       "    <tr>\n",
       "      <th>16713</th>\n",
       "      <td>Spirits &amp; Spells</td>\n",
       "      <td>GBA</td>\n",
       "      <td>2003.0</td>\n",
       "      <td>Platform</td>\n",
       "      <td>0.01</td>\n",
       "      <td>0.00</td>\n",
       "      <td>0.00</td>\n",
       "      <td>0.00</td>\n",
       "      <td>NaN</td>\n",
       "      <td>NaN</td>\n",
       "      <td>NaN</td>\n",
       "    </tr>\n",
       "    <tr>\n",
       "      <th>16714</th>\n",
       "      <td>Winning Post 8 2016</td>\n",
       "      <td>PSV</td>\n",
       "      <td>2016.0</td>\n",
       "      <td>Simulation</td>\n",
       "      <td>0.00</td>\n",
       "      <td>0.00</td>\n",
       "      <td>0.01</td>\n",
       "      <td>0.00</td>\n",
       "      <td>NaN</td>\n",
       "      <td>NaN</td>\n",
       "      <td>NaN</td>\n",
       "    </tr>\n",
       "  </tbody>\n",
       "</table>\n",
       "<p>6666 rows × 11 columns</p>\n",
       "</div>"
      ],
      "text/plain": [
       "                                name platform  year_of_release         genre  \\\n",
       "1                  Super Mario Bros.      NES           1985.0      Platform   \n",
       "4           Pokemon Red/Pokemon Blue       GB           1996.0  Role-Playing   \n",
       "5                             Tetris       GB           1989.0        Puzzle   \n",
       "9                          Duck Hunt      NES           1984.0       Shooter   \n",
       "10                        Nintendogs       DS           2005.0    Simulation   \n",
       "...                              ...      ...              ...           ...   \n",
       "16710  Samurai Warriors: Sanada Maru      PS3           2016.0        Action   \n",
       "16711               LMA Manager 2007     X360           2006.0        Sports   \n",
       "16712        Haitaka no Psychedelica      PSV           2016.0     Adventure   \n",
       "16713               Spirits & Spells      GBA           2003.0      Platform   \n",
       "16714            Winning Post 8 2016      PSV           2016.0    Simulation   \n",
       "\n",
       "       na_sales  eu_sales  jp_sales  other_sales  critic_score  user_score  \\\n",
       "1         29.08      3.58      6.81         0.77           NaN         NaN   \n",
       "4         11.27      8.89     10.22         1.00           NaN         NaN   \n",
       "5         23.20      2.26      4.22         0.58           NaN         NaN   \n",
       "9         26.93      0.63      0.28         0.47           NaN         NaN   \n",
       "10         9.05     10.95      1.93         2.74           NaN         NaN   \n",
       "...         ...       ...       ...          ...           ...         ...   \n",
       "16710      0.00      0.00      0.01         0.00           NaN         NaN   \n",
       "16711      0.00      0.01      0.00         0.00           NaN         NaN   \n",
       "16712      0.00      0.00      0.01         0.00           NaN         NaN   \n",
       "16713      0.01      0.00      0.00         0.00           NaN         NaN   \n",
       "16714      0.00      0.00      0.01         0.00           NaN         NaN   \n",
       "\n",
       "      rating  \n",
       "1        NaN  \n",
       "4        NaN  \n",
       "5        NaN  \n",
       "9        NaN  \n",
       "10       NaN  \n",
       "...      ...  \n",
       "16710    NaN  \n",
       "16711    NaN  \n",
       "16712    NaN  \n",
       "16713    NaN  \n",
       "16714    NaN  \n",
       "\n",
       "[6666 rows x 11 columns]"
      ]
     },
     "metadata": {},
     "output_type": "display_data"
    }
   ],
   "source": [
    "# Filtrar el dataframe donde user_score, critic_score y rating son NaN\n",
    "filtered_games = games[games['user_score'].isna() & games['critic_score'].isna() & games['rating'].isna()]\n",
    "\n",
    "# Mostrar el dataframe filtrado\n",
    "display(filtered_games)"
   ]
  },
  {
   "cell_type": "markdown",
   "metadata": {},
   "source": [
    "Estos valores ausentes los dejé como NaN porque representan una cantidad significativa de datos. Rellenarlos con valores arbitrarios (como la media o la mediana) podría sesgar los resultados. Además, los valores ausentes en estas columnas podrían deberse a que algunos juegos no fueron evaluados por críticos o usuarios, o no tienen una clasificación ESRB."
   ]
  },
  {
   "cell_type": "markdown",
   "metadata": {},
   "source": [
    "### Columna year_of_release"
   ]
  },
  {
   "cell_type": "code",
   "execution_count": 22,
   "metadata": {},
   "outputs": [
    {
     "data": {
      "text/html": [
       "<div>\n",
       "<style scoped>\n",
       "    .dataframe tbody tr th:only-of-type {\n",
       "        vertical-align: middle;\n",
       "    }\n",
       "\n",
       "    .dataframe tbody tr th {\n",
       "        vertical-align: top;\n",
       "    }\n",
       "\n",
       "    .dataframe thead th {\n",
       "        text-align: right;\n",
       "    }\n",
       "</style>\n",
       "<table border=\"1\" class=\"dataframe\">\n",
       "  <thead>\n",
       "    <tr style=\"text-align: right;\">\n",
       "      <th></th>\n",
       "      <th>name</th>\n",
       "      <th>platform</th>\n",
       "      <th>year_of_release</th>\n",
       "      <th>genre</th>\n",
       "      <th>na_sales</th>\n",
       "      <th>eu_sales</th>\n",
       "      <th>jp_sales</th>\n",
       "      <th>other_sales</th>\n",
       "      <th>critic_score</th>\n",
       "      <th>user_score</th>\n",
       "      <th>rating</th>\n",
       "    </tr>\n",
       "  </thead>\n",
       "  <tbody>\n",
       "    <tr>\n",
       "      <th>183</th>\n",
       "      <td>Madden NFL 2004</td>\n",
       "      <td>PS2</td>\n",
       "      <td>NaN</td>\n",
       "      <td>Sports</td>\n",
       "      <td>4.26</td>\n",
       "      <td>0.26</td>\n",
       "      <td>0.01</td>\n",
       "      <td>0.71</td>\n",
       "      <td>94.0</td>\n",
       "      <td>8.5</td>\n",
       "      <td>E</td>\n",
       "    </tr>\n",
       "    <tr>\n",
       "      <th>377</th>\n",
       "      <td>FIFA Soccer 2004</td>\n",
       "      <td>PS2</td>\n",
       "      <td>NaN</td>\n",
       "      <td>Sports</td>\n",
       "      <td>0.59</td>\n",
       "      <td>2.36</td>\n",
       "      <td>0.04</td>\n",
       "      <td>0.51</td>\n",
       "      <td>84.0</td>\n",
       "      <td>6.4</td>\n",
       "      <td>E</td>\n",
       "    </tr>\n",
       "    <tr>\n",
       "      <th>456</th>\n",
       "      <td>LEGO Batman: The Videogame</td>\n",
       "      <td>Wii</td>\n",
       "      <td>NaN</td>\n",
       "      <td>Action</td>\n",
       "      <td>1.80</td>\n",
       "      <td>0.97</td>\n",
       "      <td>0.00</td>\n",
       "      <td>0.29</td>\n",
       "      <td>74.0</td>\n",
       "      <td>7.9</td>\n",
       "      <td>E10+</td>\n",
       "    </tr>\n",
       "    <tr>\n",
       "      <th>475</th>\n",
       "      <td>wwe Smackdown vs. Raw 2006</td>\n",
       "      <td>PS2</td>\n",
       "      <td>NaN</td>\n",
       "      <td>Fighting</td>\n",
       "      <td>1.57</td>\n",
       "      <td>1.02</td>\n",
       "      <td>0.00</td>\n",
       "      <td>0.41</td>\n",
       "      <td>NaN</td>\n",
       "      <td>NaN</td>\n",
       "      <td>NaN</td>\n",
       "    </tr>\n",
       "    <tr>\n",
       "      <th>609</th>\n",
       "      <td>Space Invaders</td>\n",
       "      <td>2600</td>\n",
       "      <td>NaN</td>\n",
       "      <td>Shooter</td>\n",
       "      <td>2.36</td>\n",
       "      <td>0.14</td>\n",
       "      <td>0.00</td>\n",
       "      <td>0.03</td>\n",
       "      <td>NaN</td>\n",
       "      <td>NaN</td>\n",
       "      <td>NaN</td>\n",
       "    </tr>\n",
       "    <tr>\n",
       "      <th>...</th>\n",
       "      <td>...</td>\n",
       "      <td>...</td>\n",
       "      <td>...</td>\n",
       "      <td>...</td>\n",
       "      <td>...</td>\n",
       "      <td>...</td>\n",
       "      <td>...</td>\n",
       "      <td>...</td>\n",
       "      <td>...</td>\n",
       "      <td>...</td>\n",
       "      <td>...</td>\n",
       "    </tr>\n",
       "    <tr>\n",
       "      <th>16373</th>\n",
       "      <td>PDC World Championship Darts 2008</td>\n",
       "      <td>PSP</td>\n",
       "      <td>NaN</td>\n",
       "      <td>Sports</td>\n",
       "      <td>0.01</td>\n",
       "      <td>0.00</td>\n",
       "      <td>0.00</td>\n",
       "      <td>0.00</td>\n",
       "      <td>43.0</td>\n",
       "      <td>NaN</td>\n",
       "      <td>E10+</td>\n",
       "    </tr>\n",
       "    <tr>\n",
       "      <th>16405</th>\n",
       "      <td>Freaky Flyers</td>\n",
       "      <td>GC</td>\n",
       "      <td>NaN</td>\n",
       "      <td>Racing</td>\n",
       "      <td>0.01</td>\n",
       "      <td>0.00</td>\n",
       "      <td>0.00</td>\n",
       "      <td>0.00</td>\n",
       "      <td>69.0</td>\n",
       "      <td>6.5</td>\n",
       "      <td>T</td>\n",
       "    </tr>\n",
       "    <tr>\n",
       "      <th>16448</th>\n",
       "      <td>Inversion</td>\n",
       "      <td>PC</td>\n",
       "      <td>NaN</td>\n",
       "      <td>Shooter</td>\n",
       "      <td>0.01</td>\n",
       "      <td>0.00</td>\n",
       "      <td>0.00</td>\n",
       "      <td>0.00</td>\n",
       "      <td>59.0</td>\n",
       "      <td>6.7</td>\n",
       "      <td>M</td>\n",
       "    </tr>\n",
       "    <tr>\n",
       "      <th>16458</th>\n",
       "      <td>Hakuouki: Shinsengumi Kitan</td>\n",
       "      <td>PS3</td>\n",
       "      <td>NaN</td>\n",
       "      <td>Adventure</td>\n",
       "      <td>0.01</td>\n",
       "      <td>0.00</td>\n",
       "      <td>0.00</td>\n",
       "      <td>0.00</td>\n",
       "      <td>NaN</td>\n",
       "      <td>NaN</td>\n",
       "      <td>NaN</td>\n",
       "    </tr>\n",
       "    <tr>\n",
       "      <th>16522</th>\n",
       "      <td>Virtua Quest</td>\n",
       "      <td>GC</td>\n",
       "      <td>NaN</td>\n",
       "      <td>Role-Playing</td>\n",
       "      <td>0.01</td>\n",
       "      <td>0.00</td>\n",
       "      <td>0.00</td>\n",
       "      <td>0.00</td>\n",
       "      <td>55.0</td>\n",
       "      <td>5.5</td>\n",
       "      <td>T</td>\n",
       "    </tr>\n",
       "  </tbody>\n",
       "</table>\n",
       "<p>269 rows × 11 columns</p>\n",
       "</div>"
      ],
      "text/plain": [
       "                                    name platform  year_of_release  \\\n",
       "183                      Madden NFL 2004      PS2              NaN   \n",
       "377                     FIFA Soccer 2004      PS2              NaN   \n",
       "456           LEGO Batman: The Videogame      Wii              NaN   \n",
       "475           wwe Smackdown vs. Raw 2006      PS2              NaN   \n",
       "609                       Space Invaders     2600              NaN   \n",
       "...                                  ...      ...              ...   \n",
       "16373  PDC World Championship Darts 2008      PSP              NaN   \n",
       "16405                      Freaky Flyers       GC              NaN   \n",
       "16448                          Inversion       PC              NaN   \n",
       "16458        Hakuouki: Shinsengumi Kitan      PS3              NaN   \n",
       "16522                       Virtua Quest       GC              NaN   \n",
       "\n",
       "              genre  na_sales  eu_sales  jp_sales  other_sales  critic_score  \\\n",
       "183          Sports      4.26      0.26      0.01         0.71          94.0   \n",
       "377          Sports      0.59      2.36      0.04         0.51          84.0   \n",
       "456          Action      1.80      0.97      0.00         0.29          74.0   \n",
       "475        Fighting      1.57      1.02      0.00         0.41           NaN   \n",
       "609         Shooter      2.36      0.14      0.00         0.03           NaN   \n",
       "...             ...       ...       ...       ...          ...           ...   \n",
       "16373        Sports      0.01      0.00      0.00         0.00          43.0   \n",
       "16405        Racing      0.01      0.00      0.00         0.00          69.0   \n",
       "16448       Shooter      0.01      0.00      0.00         0.00          59.0   \n",
       "16458     Adventure      0.01      0.00      0.00         0.00           NaN   \n",
       "16522  Role-Playing      0.01      0.00      0.00         0.00          55.0   \n",
       "\n",
       "       user_score rating  \n",
       "183           8.5      E  \n",
       "377           6.4      E  \n",
       "456           7.9   E10+  \n",
       "475           NaN    NaN  \n",
       "609           NaN    NaN  \n",
       "...           ...    ...  \n",
       "16373         NaN   E10+  \n",
       "16405         6.5      T  \n",
       "16448         6.7      M  \n",
       "16458         NaN    NaN  \n",
       "16522         5.5      T  \n",
       "\n",
       "[269 rows x 11 columns]"
      ]
     },
     "metadata": {},
     "output_type": "display_data"
    }
   ],
   "source": [
    "display(games[games['year_of_release'].isna()])\n",
    "\n"
   ]
  },
  {
   "cell_type": "code",
   "execution_count": 23,
   "metadata": {},
   "outputs": [
    {
     "name": "stderr",
     "output_type": "stream",
     "text": [
      "C:\\Users\\emman\\AppData\\Local\\Temp\\ipykernel_32900\\2207519184.py:2: FutureWarning: A value is trying to be set on a copy of a DataFrame or Series through chained assignment using an inplace method.\n",
      "The behavior will change in pandas 3.0. This inplace method will never work because the intermediate object on which we are setting values always behaves as a copy.\n",
      "\n",
      "For example, when doing 'df[col].method(value, inplace=True)', try using 'df.method({col: value}, inplace=True)' or df[col] = df[col].method(value) instead, to perform the operation inplace on the original object.\n",
      "\n",
      "\n",
      "  games['year_of_release'].fillna(\"Unknown\", inplace=True)\n",
      "C:\\Users\\emman\\AppData\\Local\\Temp\\ipykernel_32900\\2207519184.py:2: FutureWarning: Setting an item of incompatible dtype is deprecated and will raise an error in a future version of pandas. Value 'Unknown' has dtype incompatible with float64, please explicitly cast to a compatible dtype first.\n",
      "  games['year_of_release'].fillna(\"Unknown\", inplace=True)\n"
     ]
    }
   ],
   "source": [
    "# Al no ser tantos datos podemos colocar su año como valor desconocido\n",
    "games['year_of_release'].fillna(\"Unknown\", inplace=True)\n"
   ]
  },
  {
   "cell_type": "markdown",
   "metadata": {},
   "source": [
    "Para los años de lanzamiento ausentes, decidí rellenarlos con \"Unknown\". Esto es útil porque no tenemos suficiente información para imputar los años de lanzamiento, y dejarlos como NaN podría causar problemas en el análisis."
   ]
  },
  {
   "cell_type": "markdown",
   "metadata": {},
   "source": [
    "## Calculo de ventas totales "
   ]
  },
  {
   "cell_type": "code",
   "execution_count": 24,
   "metadata": {},
   "outputs": [],
   "source": [
    "games['total_sales'] = games['na_sales'] + games['eu_sales'] + games['jp_sales'] + games['other_sales']"
   ]
  },
  {
   "cell_type": "code",
   "execution_count": 25,
   "metadata": {},
   "outputs": [
    {
     "data": {
      "text/html": [
       "<div>\n",
       "<style scoped>\n",
       "    .dataframe tbody tr th:only-of-type {\n",
       "        vertical-align: middle;\n",
       "    }\n",
       "\n",
       "    .dataframe tbody tr th {\n",
       "        vertical-align: top;\n",
       "    }\n",
       "\n",
       "    .dataframe thead th {\n",
       "        text-align: right;\n",
       "    }\n",
       "</style>\n",
       "<table border=\"1\" class=\"dataframe\">\n",
       "  <thead>\n",
       "    <tr style=\"text-align: right;\">\n",
       "      <th></th>\n",
       "      <th>name</th>\n",
       "      <th>platform</th>\n",
       "      <th>year_of_release</th>\n",
       "      <th>genre</th>\n",
       "      <th>na_sales</th>\n",
       "      <th>eu_sales</th>\n",
       "      <th>jp_sales</th>\n",
       "      <th>other_sales</th>\n",
       "      <th>critic_score</th>\n",
       "      <th>user_score</th>\n",
       "      <th>rating</th>\n",
       "      <th>total_sales</th>\n",
       "    </tr>\n",
       "  </thead>\n",
       "  <tbody>\n",
       "    <tr>\n",
       "      <th>10817</th>\n",
       "      <td>Kuroko's Basketball: Miracle Game</td>\n",
       "      <td>3DS</td>\n",
       "      <td>2014.0</td>\n",
       "      <td>Sports</td>\n",
       "      <td>0.00</td>\n",
       "      <td>0.00</td>\n",
       "      <td>0.10</td>\n",
       "      <td>0.00</td>\n",
       "      <td>NaN</td>\n",
       "      <td>NaN</td>\n",
       "      <td>NaN</td>\n",
       "      <td>0.10</td>\n",
       "    </tr>\n",
       "    <tr>\n",
       "      <th>2938</th>\n",
       "      <td>Metal Gear Solid: Portable Ops Plus</td>\n",
       "      <td>PSP</td>\n",
       "      <td>2007.0</td>\n",
       "      <td>Action</td>\n",
       "      <td>0.26</td>\n",
       "      <td>0.00</td>\n",
       "      <td>0.26</td>\n",
       "      <td>0.17</td>\n",
       "      <td>65.0</td>\n",
       "      <td>7.5</td>\n",
       "      <td>T</td>\n",
       "      <td>0.69</td>\n",
       "    </tr>\n",
       "    <tr>\n",
       "      <th>11972</th>\n",
       "      <td>Tom Clancy's Splinter Cell: Chaos Theory</td>\n",
       "      <td>DS</td>\n",
       "      <td>2005.0</td>\n",
       "      <td>Action</td>\n",
       "      <td>0.06</td>\n",
       "      <td>0.00</td>\n",
       "      <td>0.00</td>\n",
       "      <td>0.01</td>\n",
       "      <td>50.0</td>\n",
       "      <td>7.0</td>\n",
       "      <td>T</td>\n",
       "      <td>0.07</td>\n",
       "    </tr>\n",
       "    <tr>\n",
       "      <th>6190</th>\n",
       "      <td>Silent Hill 2: Restless Dreams</td>\n",
       "      <td>XB</td>\n",
       "      <td>2001.0</td>\n",
       "      <td>Action</td>\n",
       "      <td>0.21</td>\n",
       "      <td>0.06</td>\n",
       "      <td>0.00</td>\n",
       "      <td>0.01</td>\n",
       "      <td>84.0</td>\n",
       "      <td>8.3</td>\n",
       "      <td>M</td>\n",
       "      <td>0.28</td>\n",
       "    </tr>\n",
       "    <tr>\n",
       "      <th>13897</th>\n",
       "      <td>Tsurugi no Machi no Ihoujin: Kuro no Kyuuden</td>\n",
       "      <td>PSV</td>\n",
       "      <td>2015.0</td>\n",
       "      <td>Role-Playing</td>\n",
       "      <td>0.00</td>\n",
       "      <td>0.00</td>\n",
       "      <td>0.04</td>\n",
       "      <td>0.00</td>\n",
       "      <td>NaN</td>\n",
       "      <td>NaN</td>\n",
       "      <td>NaN</td>\n",
       "      <td>0.04</td>\n",
       "    </tr>\n",
       "    <tr>\n",
       "      <th>14700</th>\n",
       "      <td>Kenka Bancho Otome</td>\n",
       "      <td>PSV</td>\n",
       "      <td>2016.0</td>\n",
       "      <td>Action</td>\n",
       "      <td>0.00</td>\n",
       "      <td>0.00</td>\n",
       "      <td>0.03</td>\n",
       "      <td>0.00</td>\n",
       "      <td>NaN</td>\n",
       "      <td>NaN</td>\n",
       "      <td>NaN</td>\n",
       "      <td>0.03</td>\n",
       "    </tr>\n",
       "    <tr>\n",
       "      <th>10149</th>\n",
       "      <td>Space Chimps</td>\n",
       "      <td>X360</td>\n",
       "      <td>2008.0</td>\n",
       "      <td>Platform</td>\n",
       "      <td>0.10</td>\n",
       "      <td>0.00</td>\n",
       "      <td>0.00</td>\n",
       "      <td>0.01</td>\n",
       "      <td>57.0</td>\n",
       "      <td>5.3</td>\n",
       "      <td>E10+</td>\n",
       "      <td>0.11</td>\n",
       "    </tr>\n",
       "    <tr>\n",
       "      <th>15490</th>\n",
       "      <td>Elminage Gothic: Ulm Zakir to Yami no Gishiki</td>\n",
       "      <td>PSP</td>\n",
       "      <td>2012.0</td>\n",
       "      <td>Role-Playing</td>\n",
       "      <td>0.00</td>\n",
       "      <td>0.00</td>\n",
       "      <td>0.02</td>\n",
       "      <td>0.00</td>\n",
       "      <td>NaN</td>\n",
       "      <td>NaN</td>\n",
       "      <td>NaN</td>\n",
       "      <td>0.02</td>\n",
       "    </tr>\n",
       "    <tr>\n",
       "      <th>9776</th>\n",
       "      <td>Cel Damage</td>\n",
       "      <td>XB</td>\n",
       "      <td>2001.0</td>\n",
       "      <td>Racing</td>\n",
       "      <td>0.09</td>\n",
       "      <td>0.03</td>\n",
       "      <td>0.00</td>\n",
       "      <td>0.00</td>\n",
       "      <td>65.0</td>\n",
       "      <td>8.4</td>\n",
       "      <td>T</td>\n",
       "      <td>0.12</td>\n",
       "    </tr>\n",
       "    <tr>\n",
       "      <th>2585</th>\n",
       "      <td>All Star Cheer Squad</td>\n",
       "      <td>Wii</td>\n",
       "      <td>2008.0</td>\n",
       "      <td>Sports</td>\n",
       "      <td>0.43</td>\n",
       "      <td>0.29</td>\n",
       "      <td>0.00</td>\n",
       "      <td>0.08</td>\n",
       "      <td>NaN</td>\n",
       "      <td>5.2</td>\n",
       "      <td>E</td>\n",
       "      <td>0.80</td>\n",
       "    </tr>\n",
       "  </tbody>\n",
       "</table>\n",
       "</div>"
      ],
      "text/plain": [
       "                                                name platform year_of_release  \\\n",
       "10817              Kuroko's Basketball: Miracle Game      3DS          2014.0   \n",
       "2938             Metal Gear Solid: Portable Ops Plus      PSP          2007.0   \n",
       "11972       Tom Clancy's Splinter Cell: Chaos Theory       DS          2005.0   \n",
       "6190                  Silent Hill 2: Restless Dreams       XB          2001.0   \n",
       "13897   Tsurugi no Machi no Ihoujin: Kuro no Kyuuden      PSV          2015.0   \n",
       "14700                             Kenka Bancho Otome      PSV          2016.0   \n",
       "10149                                   Space Chimps     X360          2008.0   \n",
       "15490  Elminage Gothic: Ulm Zakir to Yami no Gishiki      PSP          2012.0   \n",
       "9776                                      Cel Damage       XB          2001.0   \n",
       "2585                            All Star Cheer Squad      Wii          2008.0   \n",
       "\n",
       "              genre  na_sales  eu_sales  jp_sales  other_sales  critic_score  \\\n",
       "10817        Sports      0.00      0.00      0.10         0.00           NaN   \n",
       "2938         Action      0.26      0.00      0.26         0.17          65.0   \n",
       "11972        Action      0.06      0.00      0.00         0.01          50.0   \n",
       "6190         Action      0.21      0.06      0.00         0.01          84.0   \n",
       "13897  Role-Playing      0.00      0.00      0.04         0.00           NaN   \n",
       "14700        Action      0.00      0.00      0.03         0.00           NaN   \n",
       "10149      Platform      0.10      0.00      0.00         0.01          57.0   \n",
       "15490  Role-Playing      0.00      0.00      0.02         0.00           NaN   \n",
       "9776         Racing      0.09      0.03      0.00         0.00          65.0   \n",
       "2585         Sports      0.43      0.29      0.00         0.08           NaN   \n",
       "\n",
       "       user_score rating  total_sales  \n",
       "10817         NaN    NaN         0.10  \n",
       "2938          7.5      T         0.69  \n",
       "11972         7.0      T         0.07  \n",
       "6190          8.3      M         0.28  \n",
       "13897         NaN    NaN         0.04  \n",
       "14700         NaN    NaN         0.03  \n",
       "10149         5.3   E10+         0.11  \n",
       "15490         NaN    NaN         0.02  \n",
       "9776          8.4      T         0.12  \n",
       "2585          5.2      E         0.80  "
      ]
     },
     "metadata": {},
     "output_type": "display_data"
    }
   ],
   "source": [
    "display(games.sample(10))"
   ]
  },
  {
   "cell_type": "markdown",
   "metadata": {},
   "source": [
    "Para facilitar el análisis, creé una nueva columna llamada total_sales que suma las ventas en todas las regiones (NA, EU, JP y otras). Esto nos permite analizar las ventas globales de cada juego."
   ]
  },
  {
   "cell_type": "markdown",
   "metadata": {},
   "source": [
    "# Analisis de los Datos"
   ]
  },
  {
   "cell_type": "markdown",
   "metadata": {},
   "source": [
    "## Número de juegos lanzados por año"
   ]
  },
  {
   "cell_type": "code",
   "execution_count": 26,
   "metadata": {},
   "outputs": [
    {
     "data": {
      "image/png": "[encoded data removed]",
      "text/plain": [
       "<Figure size 1200x600 with 1 Axes>"
      ]
     },
     "metadata": {},
     "output_type": "display_data"
    }
   ],
   "source": [
    "# ordenamos por años\n",
    "games_per_year = games.groupby('year_of_release')['name'].count() \n",
    "\n",
    "# Visualizacion \n",
    "games_per_year.plot(kind='bar', figsize=(12, 6))\n",
    "plt.title('Número de juegos lanzados por año')\n",
    "plt.xlabel('Año de lanzamiento')\n",
    "plt.ylabel('Número de juegos')\n",
    "plt.show()"
   ]
  },
  {
   "cell_type": "markdown",
   "metadata": {},
   "source": [
    "El número de lanzamientos de juegos aumentó significativamente a partir de 1995, alcanzando su punto máximo alrededor de 2008-2010 siendo las consolas mas populares la PS3, Xbox 360 y Wii. "
   ]
  },
  {
   "cell_type": "markdown",
   "metadata": {},
   "source": [
    "### Ventas por plataforma"
   ]
  },
  {
   "cell_type": "code",
   "execution_count": 27,
   "metadata": {},
   "outputs": [
    {
     "name": "stdout",
     "output_type": "stream",
     "text": [
      "['Wii' 'NES' 'GB' 'DS' 'X360' 'PS3' 'PS2' 'SNES' 'GBA' 'PS4' '3DS' 'N64'\n",
      " 'PS' 'XB' 'PC' '2600' 'PSP' 'XOne' 'WiiU' 'GC' 'GEN' 'DC' 'PSV' 'SAT'\n",
      " 'SCD' 'WS' 'NG' 'TG16' '3DO' 'GG' 'PCFX']\n"
     ]
    }
   ],
   "source": [
    "# ventas de una plataforma a otra, vemos las posibles plataformas\n",
    "print(games['platform'].unique())"
   ]
  },
  {
   "cell_type": "code",
   "execution_count": 28,
   "metadata": {},
   "outputs": [
    {
     "name": "stdout",
     "output_type": "stream",
     "text": [
      "platform\n",
      "PS2     1255.77\n",
      "X360     971.42\n",
      "PS3      939.65\n",
      "Wii      907.51\n",
      "DS       806.12\n",
      "PS       730.86\n",
      "GBA      317.85\n",
      "PS4      314.14\n",
      "PSP      294.05\n",
      "PC       259.52\n",
      "3DS      259.00\n",
      "XB       257.74\n",
      "GB       255.46\n",
      "NES      251.05\n",
      "N64      218.68\n",
      "SNES     200.04\n",
      "GC       198.93\n",
      "XOne     159.32\n",
      "2600      96.98\n",
      "WiiU      82.19\n",
      "PSV       54.07\n",
      "SAT       33.59\n",
      "GEN       30.74\n",
      "DC        15.95\n",
      "SCD        1.86\n",
      "NG         1.44\n",
      "WS         1.42\n",
      "TG16       0.16\n",
      "3DO        0.10\n",
      "GG         0.04\n",
      "PCFX       0.03\n",
      "Name: total_sales, dtype: float64\n"
     ]
    },
    {
     "data": {
      "image/png": "[encoded data removed]",
      "text/plain": [
       "<Figure size 1200x600 with 1 Axes>"
      ]
     },
     "metadata": {},
     "output_type": "display_data"
    }
   ],
   "source": [
    "# mayores ventas por plataforma\n",
    "sales_by_platform = games.groupby('platform')['total_sales'].sum().sort_values(ascending=False)\n",
    "print(sales_by_platform)\n",
    "\n",
    "# Visualizacion\n",
    "sales_by_platform.plot(kind='bar', figsize=(12, 6))\n",
    "plt.title('Ventas totales por plataforma')\n",
    "plt.xlabel('Plataforma')\n",
    "plt.ylabel('Ventas totales')\n",
    "plt.show()"
   ]
  },
  {
   "cell_type": "markdown",
   "metadata": {},
   "source": [
    "Las plataformas con mayores ventas son PS2, X360, PS3, Wii y DS. Estas plataformas dominaron el mercado durante varios años, especialmente PS2, que tiene las ventas más altas."
   ]
  },
  {
   "cell_type": "markdown",
   "metadata": {},
   "source": [
    "### Ventas globales por plataforma"
   ]
  },
  {
   "cell_type": "code",
   "execution_count": 29,
   "metadata": {},
   "outputs": [
    {
     "name": "stdout",
     "output_type": "stream",
     "text": [
      "platform\n",
      "PS2     1255.77\n",
      "X360     971.42\n",
      "PS3      939.65\n",
      "Wii      907.51\n",
      "DS       806.12\n",
      "Name: total_sales, dtype: float64\n"
     ]
    }
   ],
   "source": [
    "# Elegimos las 5 plataformas con mayores ventas\n",
    "sorted_total_sales = games.groupby('platform')['total_sales'].sum().sort_values(ascending = False)\n",
    "print(sorted_total_sales.head(5))"
   ]
  },
  {
   "cell_type": "code",
   "execution_count": 30,
   "metadata": {},
   "outputs": [
    {
     "name": "stdout",
     "output_type": "stream",
     "text": [
      "Index(['PS2', 'X360', 'PS3', 'Wii', 'DS'], dtype='object', name='platform')\n"
     ]
    }
   ],
   "source": [
    "# Distribucion por año de las plataformas de ps2, xbox360, ps3, wii y ds\n",
    "\n",
    "# Obteniendo las plataformas\n",
    "best_sellers_platforms = sorted_total_sales.head(5).index\n",
    "print(best_sellers_platforms)"
   ]
  },
  {
   "cell_type": "code",
   "execution_count": 31,
   "metadata": {},
   "outputs": [
    {
     "name": "stdout",
     "output_type": "stream",
     "text": [
      "                                                    name platform  \\\n",
      "6419                  Family Guy: Back to the Multiverse      PS3   \n",
      "4718   James Patterson Women's Murder Club: Games of ...       DS   \n",
      "8650                 Transformer: Rise of the Dark Spark     X360   \n",
      "8352                                        MotoGP 09/10     X360   \n",
      "4939                                  WipeOut 3 The Game      Wii   \n",
      "1169             Dance Dance Revolution: Hottest Party 2      Wii   \n",
      "15022  Umineko no Naku Koro ni San: Shinjitsu to Gens...      PS3   \n",
      "9794                                           Conduit 2      Wii   \n",
      "10311                      Grand Theft Auto: San Andreas     X360   \n",
      "1152                                         Dollar Dash      PS2   \n",
      "\n",
      "      year_of_release       genre  na_sales  eu_sales  jp_sales  other_sales  \\\n",
      "6419           2012.0      Action      0.12      0.10      0.00         0.04   \n",
      "4718           2009.0   Adventure      0.15      0.22      0.00         0.05   \n",
      "8650           2014.0      Action      0.09      0.06      0.00         0.01   \n",
      "8352           2010.0      Racing      0.07      0.09      0.00         0.02   \n",
      "4939           2012.0      Action      0.36      0.00      0.00         0.03   \n",
      "1169           2008.0  Simulation      0.94      0.48      0.01         0.15   \n",
      "15022         Unknown   Adventure      0.00      0.00      0.02         0.00   \n",
      "9794           2011.0     Shooter      0.07      0.04      0.00         0.01   \n",
      "10311          2008.0      Action      0.08      0.02      0.00         0.01   \n",
      "1152           2005.0      Action      1.30      0.23      0.00         0.07   \n",
      "\n",
      "       critic_score  user_score rating  total_sales  \n",
      "6419           40.0         6.4      M         0.26  \n",
      "4718           53.0         NaN      T         0.42  \n",
      "8650            NaN         NaN    NaN         0.16  \n",
      "8352           69.0         5.7      E         0.18  \n",
      "4939            NaN         NaN    NaN         0.39  \n",
      "1169           69.0         6.8   E10+         1.58  \n",
      "15022           NaN         NaN    NaN         0.02  \n",
      "9794           64.0         7.6      T         0.12  \n",
      "10311           NaN         7.5      M         0.11  \n",
      "1152            NaN         NaN    NaN         1.60  \n"
     ]
    }
   ],
   "source": [
    "filtered_games = games[games['platform'].isin(best_sellers_platforms)]\n",
    "print(filtered_games.sample(10))"
   ]
  },
  {
   "cell_type": "code",
   "execution_count": 32,
   "metadata": {},
   "outputs": [
    {
     "name": "stdout",
     "output_type": "stream",
     "text": [
      "   platform year_of_release  total_sales\n",
      "0        DS          1985.0         0.02\n",
      "1        DS          2004.0        17.27\n",
      "2        DS          2005.0       130.14\n",
      "3        DS          2006.0       119.81\n",
      "4        DS          2007.0       146.94\n",
      "..      ...             ...          ...\n",
      "57     X360          2013.0        88.58\n",
      "58     X360          2014.0        34.74\n",
      "59     X360          2015.0        11.96\n",
      "60     X360          2016.0         1.52\n",
      "61     X360         Unknown        10.18\n",
      "\n",
      "[62 rows x 3 columns]\n"
     ]
    }
   ],
   "source": [
    "# Agrupando los datos\n",
    "filtered_games = filtered_games.groupby(['platform', 'year_of_release'])['total_sales'].sum().reset_index()\n",
    "print(filtered_games)"
   ]
  },
  {
   "cell_type": "code",
   "execution_count": 33,
   "metadata": {},
   "outputs": [
    {
     "data": {
      "image/png": "[encoded data removed]",
      "text/plain": [
       "<Figure size 1400x700 with 1 Axes>"
      ]
     },
     "metadata": {},
     "output_type": "display_data"
    }
   ],
   "source": [
    "\n",
    "# Asegurar que 'year_of_release' es numérico, ademas, convertimos la columna a tipo numérico usando errors='coerce' para evitar erores\n",
    "filtered_games['year_of_release'] = pd.to_numeric(filtered_games['year_of_release'], errors='coerce')\n",
    "\n",
    "plt.figure(figsize=(14, 7))\n",
    "for platform in filtered_games['platform'].unique():  # Recorre las plataformas\n",
    "    subset = filtered_games[filtered_games['platform'] == platform]  # Filtra por plataforma\n",
    "    plt.bar(subset['year_of_release'], subset['total_sales'], label=platform, alpha=0.7)\n",
    "\n",
    "plt.title('Distribución de ventas por año y plataforma (Top 5 plataformas)')\n",
    "plt.xlabel('Año de lanzamiento')\n",
    "plt.ylabel('Ventas totales')\n",
    "plt.legend(title='Plataforma')\n",
    "plt.xticks(rotation=45)\n",
    "plt.show()"
   ]
  },
  {
   "cell_type": "markdown",
   "metadata": {},
   "source": [
    "### ¿Cuánto tardan generalmente las nuevas plataformas en aparecer y las antiguas en desaparecer?"
   ]
  },
  {
   "cell_type": "code",
   "execution_count": 34,
   "metadata": {},
   "outputs": [
    {
     "name": "stdout",
     "output_type": "stream",
     "text": [
      "             min     max  lifecycle\n",
      "platform                           \n",
      "PC        1985.0  2016.0       31.0\n",
      "DS        1985.0  2013.0       28.0\n",
      "GB        1988.0  2001.0       13.0\n",
      "X360      2005.0  2016.0       11.0\n",
      "PSP       2004.0  2015.0       11.0\n",
      "PS2       2000.0  2011.0       11.0\n",
      "NES       1983.0  1994.0       11.0\n",
      "DC        1998.0  2008.0       10.0\n",
      "Wii       2006.0  2016.0       10.0\n",
      "PS3       2006.0  2016.0       10.0\n",
      "2600      1980.0  1989.0        9.0\n",
      "SNES      1990.0  1999.0        9.0\n",
      "PS        1994.0  2003.0        9.0\n",
      "XB        2000.0  2008.0        8.0\n",
      "GBA       2000.0  2007.0        7.0\n",
      "GC        2001.0  2007.0        6.0\n",
      "N64       1996.0  2002.0        6.0\n",
      "3DS       2011.0  2016.0        5.0\n",
      "PSV       2011.0  2016.0        5.0\n",
      "SAT       1994.0  1999.0        5.0\n",
      "WiiU      2012.0  2016.0        4.0\n",
      "GEN       1990.0  1994.0        4.0\n",
      "NG        1993.0  1996.0        3.0\n",
      "XOne      2013.0  2016.0        3.0\n",
      "PS4       2013.0  2016.0        3.0\n",
      "WS        1999.0  2001.0        2.0\n",
      "3DO       1994.0  1995.0        1.0\n",
      "SCD       1993.0  1994.0        1.0\n",
      "TG16      1995.0  1995.0        0.0\n",
      "PCFX      1996.0  1996.0        0.0\n",
      "GG        1992.0  1992.0        0.0\n"
     ]
    }
   ],
   "source": [
    "# Asegurar que 'year_of_release' es numérico\n",
    "games['year_of_release'] = pd.to_numeric(games['year_of_release'], errors='coerce')\n",
    "platform_lifecycle = games.groupby('platform')['year_of_release'].agg(['min', 'max'])\n",
    "platform_lifecycle['lifecycle'] = platform_lifecycle['max'] - platform_lifecycle['min']\n",
    "print(platform_lifecycle.sort_values('lifecycle', ascending=False))"
   ]
  },
  {
   "cell_type": "markdown",
   "metadata": {},
   "source": [
    "### Periodo en el que se tomaran los datos\n",
    "Se eligio los datos desde 2014 hasta 2017 para poder proyectar nuestra información e evitar data muy antigua."
   ]
  },
  {
   "cell_type": "code",
   "execution_count": 35,
   "metadata": {},
   "outputs": [],
   "source": [
    "relevant_data = games[(games['year_of_release'] >= 2014) & (games['year_of_release'] <= 2017)]"
   ]
  },
  {
   "cell_type": "code",
   "execution_count": 36,
   "metadata": {},
   "outputs": [],
   "source": [
    "# Obteniendo las 5 plataformas principales\n",
    "top_5_platforms = relevant_data.groupby('platform')['total_sales'].sum().sort_values(ascending=False).head(5).index.tolist()\n"
   ]
  },
  {
   "cell_type": "markdown",
   "metadata": {},
   "source": [
    "### Ventas globales de todos los juegos, desglosados por plataforma"
   ]
  },
  {
   "cell_type": "code",
   "execution_count": 37,
   "metadata": {},
   "outputs": [
    {
     "data": {
      "image/png": "[encoded data removed]",
      "text/plain": [
       "<Figure size 1000x600 with 1 Axes>"
      ]
     },
     "metadata": {},
     "output_type": "display_data"
    }
   ],
   "source": [
    "# Filtrar los datos para las 5 plataformas principales\n",
    "\n",
    "filtered_data = relevant_data[relevant_data['platform'].isin(top_5_platforms)]\n",
    "\n",
    "# Crear una lista de listas con las ventas por plataforma\n",
    "ventas_por_plataforma = [filtered_data[filtered_data['platform'] == platform]['total_sales'] for platform in top_5_platforms]\n",
    "\n",
    "# Crear el diagrama de caja\n",
    "plt.figure(figsize=(10, 6))\n",
    "plt.boxplot(ventas_por_plataforma, labels=top_5_platforms)\n",
    "plt.title('Distribución de ventas globales por plataforma (Top 5)')\n",
    "plt.xlabel('Plataforma')\n",
    "plt.ylabel('Ventas totales')\n",
    "plt.ylim(0, 3) \n",
    "plt.grid(True)\n",
    "plt.show()"
   ]
  },
  {
   "cell_type": "markdown",
   "metadata": {},
   "source": [
    "Las plataformas más recientes (PS4 y XOne) parecen haber tenido juegos con ventas más variadas, mientras que las más antiguas (PS3, 3DS, X360) muestran ventas más homogéneas. Además, la mayoría de los juegos tienen ventas relativamente bajas, con algunos títulos excepcionales que vendieron mucho más que el resto."
   ]
  },
  {
   "cell_type": "markdown",
   "metadata": {},
   "source": [
    "### Relación entre reseñas y ventas\n"
   ]
  },
  {
   "cell_type": "code",
   "execution_count": 38,
   "metadata": {},
   "outputs": [
    {
     "data": {
      "image/png": "[encoded data removed]",
      "text/plain": [
       "<Figure size 1000x600 with 1 Axes>"
      ]
     },
     "metadata": {},
     "output_type": "display_data"
    }
   ],
   "source": [
    "# Eligiendo a xbox360 como plataforma\n",
    "x360_data = games[games['platform'] == 'X360']\n",
    "plt.figure(figsize=(10, 6))  # Tamaño del gráfico\n",
    "plt.scatter(x360_data['user_score'], x360_data['total_sales'], alpha=0.5)  # alpha controla la transparencia de los puntos\n",
    "\n",
    "# Personalizar el gráfico\n",
    "plt.title('Relación entre reseñas de usuarios y ventas totales')\n",
    "plt.xlabel('Reseñas de usuarios (user_score)')\n",
    "plt.ylabel('Ventas totales (total_sales)')\n",
    "plt.grid(True)  # Agregar una cuadrícula para mejor visualización\n",
    "\n",
    "# Mostrar el gráfico\n",
    "plt.show()"
   ]
  },
  {
   "cell_type": "code",
   "execution_count": 39,
   "metadata": {},
   "outputs": [
    {
     "name": "stdout",
     "output_type": "stream",
     "text": [
      "Correlación entre reseñas de usuarios y ventas: 0.1144588297845418\n"
     ]
    }
   ],
   "source": [
    "correlation = x360_data['user_score'].corr(x360_data['total_sales'])\n",
    "print(\"Correlación entre reseñas de usuarios y ventas:\", correlation)"
   ]
  },
  {
   "cell_type": "markdown",
   "metadata": {},
   "source": [
    "Analicé cómo las reseñas de usuarios afectan las ventas en la plataforma X360. Creé un gráfico de dispersión y calculé la correlación, que resultó ser débil (0.11). Esto sugiere que las reseñas de usuarios no tienen un impacto fuerte en las ventas."
   ]
  },
  {
   "cell_type": "code",
   "execution_count": 40,
   "metadata": {},
   "outputs": [
    {
     "data": {
      "image/png": "[encoded data removed]",
      "text/plain": [
       "<Figure size 1000x600 with 1 Axes>"
      ]
     },
     "metadata": {},
     "output_type": "display_data"
    }
   ],
   "source": [
    "# Eligiendo a xbox360 como plataforma\n",
    "x360_data = games[games['platform'] == 'X360']\n",
    "plt.figure(figsize=(10, 6))  # Tamaño del gráfico\n",
    "plt.scatter(x360_data['critic_score'], x360_data['total_sales'], alpha=0.5)  # alpha controla la transparencia de los puntos\n",
    "\n",
    "# Personalizar el gráfico\n",
    "plt.title('Relación entre reseñas de usuarios y ventas totales')\n",
    "plt.xlabel('Reseñas de usuarios (user_score)')\n",
    "plt.ylabel('Ventas totales (total_sales)')\n",
    "plt.grid(True)  # Agregar una cuadrícula para mejor visualización\n",
    "\n",
    "# Mostrar el gráfico\n",
    "plt.show()"
   ]
  },
  {
   "cell_type": "code",
   "execution_count": 41,
   "metadata": {},
   "outputs": [
    {
     "name": "stdout",
     "output_type": "stream",
     "text": [
      "Correlación entre reseñas de usuarios y ventas: 0.3937358653072587\n"
     ]
    }
   ],
   "source": [
    "correlation = x360_data['critic_score'].corr(x360_data['total_sales'])\n",
    "print(\"Correlación entre reseñas de usuarios y ventas:\", correlation)"
   ]
  },
  {
   "cell_type": "markdown",
   "metadata": {},
   "source": [
    "Los juegos con rating 'M' (Mature) generan las mayores ventas totales, superando a categorías como 'E' o 'T'. Sin embargo, esto podría estar impulsado por unos pocos títulos muy exitosos."
   ]
  },
  {
   "cell_type": "markdown",
   "metadata": {},
   "source": [
    "###  Ventas de los mismos juegos en otras plataformas. (Call of Duty)"
   ]
  },
  {
   "cell_type": "code",
   "execution_count": 42,
   "metadata": {},
   "outputs": [
    {
     "data": {
      "image/png": "[encoded data removed]",
      "text/plain": [
       "<Figure size 1200x600 with 1 Axes>"
      ]
     },
     "metadata": {},
     "output_type": "display_data"
    }
   ],
   "source": [
    "\n",
    "cod_games = relevant_data[relevant_data['name'].str.contains('Call of Duty')].groupby('platform')['total_sales'].sum().sort_values(ascending=False)\n",
    "cod_games.plot(x='platform', y='total_sales', kind='bar', figsize=(12, 6))\n",
    "plt.title('Ventas de Call of Duty por plataforma')\n",
    "plt.xlabel('Plataforma')\n",
    "plt.ylabel('Ventas totales')\n",
    "plt.show()"
   ]
  },
  {
   "cell_type": "code",
   "execution_count": 43,
   "metadata": {},
   "outputs": [
    {
     "name": "stdout",
     "output_type": "stream",
     "text": [
      "genre\n",
      "Shooter         1.335469\n",
      "Sports          0.680000\n",
      "Platform        0.476053\n",
      "Fighting        0.470333\n",
      "Role-Playing    0.459005\n",
      "Racing          0.398841\n",
      "Misc            0.332301\n",
      "Action          0.322068\n",
      "Simulation      0.298409\n",
      "Puzzle          0.157857\n",
      "Strategy        0.107027\n",
      "Adventure       0.094865\n",
      "Name: total_sales, dtype: float64\n"
     ]
    },
    {
     "data": {
      "image/png": "[encoded data removed]",
      "text/plain": [
       "<Figure size 1200x600 with 1 Axes>"
      ]
     },
     "metadata": {},
     "output_type": "display_data"
    }
   ],
   "source": [
    "sales_by_genre = relevant_data.groupby('genre')['total_sales'].mean().sort_values(ascending=False)\n",
    "print(sales_by_genre)\n",
    "sales_by_genre.plot(kind='bar', figsize=(12, 6))\n",
    "plt.title('Ventas promedio por cada género')\n",
    "plt.xlabel('Género')\n",
    "plt.ylabel('Ventas totales')\n",
    "plt.show()"
   ]
  },
  {
   "cell_type": "markdown",
   "metadata": {},
   "source": [
    "# Perfil de usuario para cada region"
   ]
  },
  {
   "cell_type": "markdown",
   "metadata": {},
   "source": [
    "### Plataformas principales en cada región (NA, EU, JP)."
   ]
  },
  {
   "cell_type": "code",
   "execution_count": 44,
   "metadata": {},
   "outputs": [
    {
     "name": "stdout",
     "output_type": "stream",
     "text": [
      "platform\n",
      "X360    602.47\n",
      "PS2     583.84\n",
      "Wii     496.90\n",
      "PS3     393.49\n",
      "DS      382.40\n",
      "Name: na_sales, dtype: float64\n"
     ]
    }
   ],
   "source": [
    "# Region NA\n",
    "region_na = games.groupby('platform')['na_sales'].sum().sort_values(ascending = False)\n",
    "print(region_na.head(5))"
   ]
  },
  {
   "cell_type": "code",
   "execution_count": 45,
   "metadata": {},
   "outputs": [
    {
     "name": "stdout",
     "output_type": "stream",
     "text": [
      "platform\n",
      "PS2     339.29\n",
      "PS3     330.29\n",
      "X360    270.76\n",
      "Wii     262.21\n",
      "PS      213.61\n",
      "Name: eu_sales, dtype: float64\n"
     ]
    }
   ],
   "source": [
    "# Region EU\n",
    "region_eu = games.groupby('platform')['eu_sales'].sum().sort_values(ascending = False)\n",
    "print(region_eu.head(5))"
   ]
  },
  {
   "cell_type": "code",
   "execution_count": 46,
   "metadata": {},
   "outputs": [
    {
     "name": "stdout",
     "output_type": "stream",
     "text": [
      "platform\n",
      "DS      175.57\n",
      "PS      139.82\n",
      "PS2     139.20\n",
      "SNES    116.55\n",
      "3DS     100.67\n",
      "Name: jp_sales, dtype: float64\n"
     ]
    }
   ],
   "source": [
    "# Region JP\n",
    "region_jp = games.groupby('platform')['jp_sales'].sum().sort_values(ascending = False)\n",
    "print(region_jp.head(5))"
   ]
  },
  {
   "cell_type": "markdown",
   "metadata": {},
   "source": [
    "### Géneros principales por región"
   ]
  },
  {
   "cell_type": "code",
   "execution_count": 47,
   "metadata": {},
   "outputs": [
    {
     "name": "stdout",
     "output_type": "stream",
     "text": [
      "genre\n",
      "Action      879.01\n",
      "Sports      684.43\n",
      "Shooter     592.24\n",
      "Platform    445.50\n",
      "Misc        407.27\n",
      "Name: na_sales, dtype: float64\n"
     ]
    }
   ],
   "source": [
    "# Region NA\n",
    "region_na = games.groupby('genre')['na_sales'].sum().sort_values(ascending = False)\n",
    "print(region_na.head(5))"
   ]
  },
  {
   "cell_type": "code",
   "execution_count": 48,
   "metadata": {},
   "outputs": [
    {
     "name": "stdout",
     "output_type": "stream",
     "text": [
      "genre\n",
      "Action     519.13\n",
      "Sports     376.79\n",
      "Shooter    317.34\n",
      "Racing     236.51\n",
      "Misc       212.74\n",
      "Name: eu_sales, dtype: float64\n"
     ]
    }
   ],
   "source": [
    "# Region EU\n",
    "region_eu = games.groupby('genre')['eu_sales'].sum().sort_values(ascending = False)\n",
    "print(region_eu.head(5))"
   ]
  },
  {
   "cell_type": "code",
   "execution_count": 49,
   "metadata": {},
   "outputs": [
    {
     "name": "stdout",
     "output_type": "stream",
     "text": [
      "genre\n",
      "Role-Playing    355.41\n",
      "Action          161.43\n",
      "Sports          135.54\n",
      "Platform        130.83\n",
      "Misc            108.11\n",
      "Name: jp_sales, dtype: float64\n"
     ]
    }
   ],
   "source": [
    "# Region JP\n",
    "region_jp = games.groupby('genre')['jp_sales'].sum().sort_values(ascending = False)\n",
    "print(region_jp.head(5))"
   ]
  },
  {
   "cell_type": "markdown",
   "metadata": {},
   "source": [
    "### Clasificaciones ESRB y ventas"
   ]
  },
  {
   "cell_type": "code",
   "execution_count": 50,
   "metadata": {},
   "outputs": [
    {
     "name": "stdout",
     "output_type": "stream",
     "text": [
      "rating\n",
      "E       1292.99\n",
      "T        759.75\n",
      "M        748.48\n",
      "E10+     353.32\n",
      "K-A        2.56\n",
      "Name: na_sales, dtype: float64\n"
     ]
    }
   ],
   "source": [
    "# Region NA\n",
    "region_na =  games.groupby('rating')['na_sales'].sum().sort_values(ascending = False)\n",
    "print(region_na.head(5))"
   ]
  },
  {
   "cell_type": "code",
   "execution_count": 51,
   "metadata": {},
   "outputs": [
    {
     "name": "stdout",
     "output_type": "stream",
     "text": [
      "rating\n",
      "E       710.25\n",
      "M       483.97\n",
      "T       427.03\n",
      "E10+    188.52\n",
      "AO        0.61\n",
      "Name: eu_sales, dtype: float64\n"
     ]
    }
   ],
   "source": [
    "# Region EU\n",
    "region_eu =  games.groupby('rating')['eu_sales'].sum().sort_values(ascending = False)\n",
    "print(region_eu.head(5))"
   ]
  },
  {
   "cell_type": "code",
   "execution_count": 52,
   "metadata": {},
   "outputs": [
    {
     "name": "stdout",
     "output_type": "stream",
     "text": [
      "rating\n",
      "E       198.11\n",
      "T       151.40\n",
      "M        64.24\n",
      "E10+     40.20\n",
      "K-A       1.46\n",
      "Name: jp_sales, dtype: float64\n"
     ]
    }
   ],
   "source": [
    "# Region JP\n",
    "region_jp =  games.groupby('rating')['jp_sales'].sum().sort_values(ascending = False)\n",
    "print(region_jp.head(5))"
   ]
  },
  {
   "cell_type": "code",
   "execution_count": 53,
   "metadata": {},
   "outputs": [
    {
     "data": {
      "image/png": "[encoded data removed]",
      "text/plain": [
       "<Figure size 1000x600 with 1 Axes>"
      ]
     },
     "metadata": {},
     "output_type": "display_data"
    },
    {
     "data": {
      "image/png": "[encoded data removed]",
      "text/plain": [
       "<Figure size 1000x600 with 1 Axes>"
      ]
     },
     "metadata": {},
     "output_type": "display_data"
    },
    {
     "data": {
      "image/png": "[encoded data removed]",
      "text/plain": [
       "<Figure size 1000x600 with 1 Axes>"
      ]
     },
     "metadata": {},
     "output_type": "display_data"
    }
   ],
   "source": [
    "# Graficas\n",
    "# Gráfico para NA\n",
    "region_na.plot(kind='bar', figsize=(10, 6), color='blue')\n",
    "plt.title('Ventas por clasificación ESRB en Norteamérica (NA)')\n",
    "plt.xlabel('Clasificación ESRB')\n",
    "plt.ylabel('Ventas totales')\n",
    "plt.show()\n",
    "\n",
    "# Gráfico para EU\n",
    "region_eu.plot(kind='bar', figsize=(10, 6), color='green')\n",
    "plt.title('Ventas por clasificación ESRB en Europa (UE)')\n",
    "plt.xlabel('Clasificación ESRB')\n",
    "plt.ylabel('Ventas totales')\n",
    "plt.show()\n",
    "\n",
    "# Gráfico para JP\n",
    "region_jp.plot(kind='bar', figsize=(10, 6), color='red')\n",
    "plt.title('Ventas por clasificación ESRB en Japón (JP)')\n",
    "plt.xlabel('Clasificación ESRB')\n",
    "plt.ylabel('Ventas totales')\n",
    "plt.show()"
   ]
  },
  {
   "cell_type": "markdown",
   "metadata": {},
   "source": [
    "En todas las regiones, los juegos con clasificación \"E\" (para todos) son los más vendidos, seguidos por \"T\" (adolescentes) y \"M\" (maduros). Esto sugiere que los juegos familiares y aptos para todos los públicos tienen un mayor alcance en el mercado."
   ]
  },
  {
   "cell_type": "markdown",
   "metadata": {},
   "source": [
    "# Pruebas de hipótesis"
   ]
  },
  {
   "cell_type": "markdown",
   "metadata": {},
   "source": [
    "### Calificaciones Promedio de Usuarios: Xbox One vs PC"
   ]
  },
  {
   "cell_type": "code",
   "execution_count": 54,
   "metadata": {},
   "outputs": [
    {
     "name": "stdout",
     "output_type": "stream",
     "text": [
      "P-valor: 1.3896435533548819e-05\n",
      "Rechazamos la hipótesis nula: Las calificaciones promedio son diferentes.\n"
     ]
    }
   ],
   "source": [
    "from scipy.stats import ttest_ind\n",
    "\n",
    "# Filtrar los datos para Xbox One y PC\n",
    "xbox_one_scores = games[games['platform'] == 'XOne']['user_score'].dropna()\n",
    "pc_scores = games[games['platform'] == 'PC']['user_score'].dropna()\n",
    "\n",
    "# Realizar la prueba t de dos muestras independientes\n",
    "t_stat, p_value = ttest_ind(xbox_one_scores, pc_scores)\n",
    "\n",
    "print(f\"P-valor: {p_value}\")\n",
    "if p_value < 0.05:\n",
    "    print(\"Rechazamos la hipótesis nula: Las calificaciones promedio son diferentes.\")\n",
    "else:\n",
    "    print(\"No podemos rechazar la hipótesis nula: Las calificaciones promedio son las mismas.\")"
   ]
  },
  {
   "cell_type": "markdown",
   "metadata": {},
   "source": [
    "Esto indica que las calificaciones promedio de usuarios son diferentes entre estas dos plataformas. Podría ser que los juegos de PC atraen a un público más crítico o especializado, mientras que los juegos de Xbox One atraen a un público más casual."
   ]
  },
  {
   "cell_type": "markdown",
   "metadata": {},
   "source": [
    "### Calificaciones promedio de usuarios para los géneros de Acción y Deportes"
   ]
  },
  {
   "cell_type": "code",
   "execution_count": 55,
   "metadata": {},
   "outputs": [
    {
     "name": "stdout",
     "output_type": "stream",
     "text": [
      "P-valor: 0.10406951359049141\n",
      "No podemos rechazar la hipótesis nula: Las calificaciones promedio son las mismas.\n"
     ]
    }
   ],
   "source": [
    "# Filtrar los datos para los géneros de Acción y Deportes\n",
    "action_scores = games[games['genre'] == 'Action']['user_score'].dropna()\n",
    "sports_scores = games[games['genre'] == 'Sports']['user_score'].dropna()\n",
    "\n",
    "# Realizar la prueba t de dos muestras independientes\n",
    "t_stat, p_value = ttest_ind(action_scores, sports_scores)\n",
    "\n",
    "print(f\"P-valor: {p_value}\")\n",
    "if p_value < 0.05:\n",
    "    print(\"Rechazamos la hipótesis nula: Las calificaciones promedio son diferentes.\")\n",
    "else:\n",
    "    print(\"No podemos rechazar la hipótesis nula: Las calificaciones promedio son las mismas.\")"
   ]
  },
  {
   "cell_type": "markdown",
   "metadata": {},
   "source": [
    "Esto sugiere que no hay una diferencia significativa en las calificaciones promedio entre estos dos géneros. Ambos géneros atraen a un público similar en términos de expectativas y satisfacción."
   ]
  },
  {
   "cell_type": "markdown",
   "metadata": {},
   "source": [
    "\n",
    "Formulación de hipótesis:\n",
    "\n",
    "- La hipótesis nula (H₀) siempre asume que no hay diferencia entre los grupos que estamos comparando.\n",
    "\n",
    "- La hipótesis alternativa (H₁) es lo que queremos probar, es decir, que hay una diferencia entre los grupos.\n",
    "\n",
    "Criterio para probar las hipótesis:\n",
    "\n",
    "- Utilizamos una prueba t de dos muestras independientes porque estamos comparando las medias de dos grupos independientes (Xbox One vs. PC, y Acción vs. Deportes).\n",
    "\n",
    "- El p-valor nos indica la probabilidad de observar los datos si la hipótesis nula es verdadera. Si esta probabilidad es muy baja (menor que alfa = 0.05), rechazamos la hipótesis nula.\n",
    "\n",
    "Elección del umbral alfa:\n",
    "\n",
    "- El valor de alfa = 0.05 es un estándar común en pruebas estadísticas. Representa un 5% de riesgo de rechazar la hipótesis nula cuando en realidad es verdadera (error tipo I)."
   ]
  },
  {
   "cell_type": "markdown",
   "metadata": {},
   "source": [
    "# Conclusión general"
   ]
  },
  {
   "cell_type": "markdown",
   "metadata": {},
   "source": [
    "Las plataformas más rentables son PS2, X360, PS3, Wii y DS, y los géneros más rentables son Acción, Deportes y Shooter. Las preferencias de los usuarios varían significativamente entre regiones, y las clasificaciones ESRB tienen un impacto en las ventas. Además, las reseñas de usuarios no tienen un impacto fuerte en las ventas, y las calificaciones promedio de usuarios difieren entre plataformas pero no entre géneros."
   ]
  }
 ],
 "metadata": {
  "ExecuteTimeLog": [
   {
    "duration": 356,
    "start_time": "2025-02-21T01:34:21.962Z"
   },
   {
    "duration": 2,
    "start_time": "2025-02-21T01:34:44.584Z"
   },
   {
    "duration": 39,
    "start_time": "2025-02-21T01:34:44.968Z"
   },
   {
    "duration": 13,
    "start_time": "2025-02-21T01:34:53.156Z"
   },
   {
    "duration": 5,
    "start_time": "2025-02-21T01:35:06.279Z"
   },
   {
    "duration": 15,
    "start_time": "2025-02-21T01:35:11.062Z"
   },
   {
    "duration": 286,
    "start_time": "2025-02-26T04:47:45.300Z"
   },
   {
    "duration": 33,
    "start_time": "2025-02-26T04:47:45.645Z"
   },
   {
    "duration": 12,
    "start_time": "2025-02-26T04:47:46.017Z"
   },
   {
    "duration": 9,
    "start_time": "2025-02-26T04:47:46.714Z"
   },
   {
    "duration": 314,
    "start_time": "2025-02-26T04:47:47.257Z"
   },
   {
    "duration": 13,
    "start_time": "2025-02-26T04:48:06.796Z"
   },
   {
    "duration": 11,
    "start_time": "2025-02-26T04:48:11.556Z"
   },
   {
    "duration": 11,
    "start_time": "2025-02-26T04:48:22.967Z"
   },
   {
    "duration": 5,
    "start_time": "2025-02-26T04:48:26.825Z"
   },
   {
    "duration": 11,
    "start_time": "2025-02-26T04:48:34.231Z"
   },
   {
    "duration": 11,
    "start_time": "2025-02-26T04:48:56.673Z"
   },
   {
    "duration": 14,
    "start_time": "2025-02-26T04:50:11.297Z"
   },
   {
    "duration": 8,
    "start_time": "2025-02-26T04:50:16.742Z"
   },
   {
    "duration": 11,
    "start_time": "2025-02-26T04:50:59.127Z"
   },
   {
    "duration": 2,
    "start_time": "2025-02-26T04:51:03.366Z"
   },
   {
    "duration": 24,
    "start_time": "2025-02-26T04:51:03.752Z"
   },
   {
    "duration": 13,
    "start_time": "2025-02-26T04:51:04.099Z"
   },
   {
    "duration": 7,
    "start_time": "2025-02-26T04:51:04.991Z"
   },
   {
    "duration": 11,
    "start_time": "2025-02-26T04:51:05.579Z"
   },
   {
    "duration": 8,
    "start_time": "2025-02-26T04:51:24.064Z"
   },
   {
    "duration": 2,
    "start_time": "2025-02-26T05:10:56.247Z"
   },
   {
    "duration": 25,
    "start_time": "2025-02-26T05:10:56.528Z"
   },
   {
    "duration": 11,
    "start_time": "2025-02-26T05:10:56.809Z"
   },
   {
    "duration": 7,
    "start_time": "2025-02-26T05:10:57.350Z"
   },
   {
    "duration": 14,
    "start_time": "2025-02-26T05:10:58.383Z"
   },
   {
    "duration": 12,
    "start_time": "2025-02-26T05:11:20.041Z"
   },
   {
    "duration": 68,
    "start_time": "2025-02-26T05:11:30.465Z"
   },
   {
    "duration": 3,
    "start_time": "2025-02-26T05:11:40.278Z"
   },
   {
    "duration": 22,
    "start_time": "2025-02-26T05:11:40.635Z"
   },
   {
    "duration": 11,
    "start_time": "2025-02-26T05:11:41.020Z"
   },
   {
    "duration": 8,
    "start_time": "2025-02-26T05:11:41.622Z"
   },
   {
    "duration": 13,
    "start_time": "2025-02-26T05:11:42.292Z"
   },
   {
    "duration": 5,
    "start_time": "2025-02-26T05:12:32.922Z"
   },
   {
    "duration": 13,
    "start_time": "2025-02-26T05:12:37.998Z"
   },
   {
    "duration": 12,
    "start_time": "2025-02-26T05:13:16.792Z"
   },
   {
    "duration": 3,
    "start_time": "2025-02-26T05:13:25.658Z"
   },
   {
    "duration": 23,
    "start_time": "2025-02-26T05:13:25.990Z"
   },
   {
    "duration": 11,
    "start_time": "2025-02-26T05:13:26.289Z"
   },
   {
    "duration": 8,
    "start_time": "2025-02-26T05:13:26.852Z"
   },
   {
    "duration": 11,
    "start_time": "2025-02-26T05:13:29.789Z"
   },
   {
    "duration": 7,
    "start_time": "2025-02-26T05:13:37.608Z"
   },
   {
    "duration": 12,
    "start_time": "2025-02-26T05:18:05.598Z"
   },
   {
    "duration": 23,
    "start_time": "2025-02-26T05:18:34.010Z"
   },
   {
    "duration": 12,
    "start_time": "2025-02-26T05:18:51.314Z"
   },
   {
    "duration": 12,
    "start_time": "2025-02-26T05:18:55.064Z"
   },
   {
    "duration": 3,
    "start_time": "2025-02-26T05:19:05.543Z"
   },
   {
    "duration": 2,
    "start_time": "2025-02-26T05:19:25.224Z"
   },
   {
    "duration": 23,
    "start_time": "2025-02-26T05:19:25.541Z"
   },
   {
    "duration": 13,
    "start_time": "2025-02-26T05:19:25.830Z"
   },
   {
    "duration": 8,
    "start_time": "2025-02-26T05:19:26.206Z"
   },
   {
    "duration": 3,
    "start_time": "2025-02-26T05:19:28.856Z"
   },
   {
    "duration": 511,
    "start_time": "2025-02-26T05:19:46.861Z"
   },
   {
    "duration": 158,
    "start_time": "2025-03-04T05:48:56.997Z"
   },
   {
    "duration": 310,
    "start_time": "2025-03-04T05:49:00.058Z"
   },
   {
    "duration": 36,
    "start_time": "2025-03-04T05:49:00.370Z"
   },
   {
    "duration": 11,
    "start_time": "2025-03-04T05:49:00.643Z"
   },
   {
    "duration": 10,
    "start_time": "2025-03-04T05:49:01.099Z"
   },
   {
    "duration": 4,
    "start_time": "2025-03-04T05:49:03.236Z"
   },
   {
    "duration": 7,
    "start_time": "2025-03-04T05:49:03.717Z"
   },
   {
    "duration": 8,
    "start_time": "2025-03-04T05:49:50.756Z"
   },
   {
    "duration": 10,
    "start_time": "2025-03-04T05:50:18.353Z"
   },
   {
    "duration": 11,
    "start_time": "2025-03-04T05:50:49.135Z"
   },
   {
    "duration": 9,
    "start_time": "2025-03-04T05:51:44.191Z"
   },
   {
    "duration": 11,
    "start_time": "2025-03-04T05:52:00.214Z"
   },
   {
    "duration": 11,
    "start_time": "2025-03-04T15:11:01.463Z"
   },
   {
    "duration": 12,
    "start_time": "2025-03-04T15:11:53.326Z"
   },
   {
    "duration": 7,
    "start_time": "2025-03-04T15:12:55.116Z"
   },
   {
    "duration": 8,
    "start_time": "2025-03-04T15:13:05.471Z"
   },
   {
    "duration": 7,
    "start_time": "2025-03-04T15:13:14.913Z"
   },
   {
    "duration": 5,
    "start_time": "2025-03-04T15:34:15.029Z"
   },
   {
    "duration": 5,
    "start_time": "2025-03-04T15:35:54.457Z"
   },
   {
    "duration": 4,
    "start_time": "2025-03-04T15:36:06.362Z"
   },
   {
    "duration": 11,
    "start_time": "2025-03-04T15:36:16.789Z"
   },
   {
    "duration": 2,
    "start_time": "2025-03-04T15:45:40.949Z"
   },
   {
    "duration": 701,
    "start_time": "2025-03-04T15:59:23.986Z"
   },
   {
    "duration": 9,
    "start_time": "2025-03-04T16:00:00.347Z"
   },
   {
    "duration": 12,
    "start_time": "2025-03-04T16:01:59.072Z"
   },
   {
    "duration": 10,
    "start_time": "2025-03-04T16:02:25.339Z"
   },
   {
    "duration": 335,
    "start_time": "2025-03-13T05:17:23.014Z"
   },
   {
    "duration": 35,
    "start_time": "2025-03-13T05:17:23.417Z"
   },
   {
    "duration": 12,
    "start_time": "2025-03-13T05:17:24.016Z"
   },
   {
    "duration": 9,
    "start_time": "2025-03-13T05:17:25.796Z"
   },
   {
    "duration": 5,
    "start_time": "2025-03-13T05:17:26.262Z"
   },
   {
    "duration": 7,
    "start_time": "2025-03-13T05:17:27.717Z"
   },
   {
    "duration": 7,
    "start_time": "2025-03-13T05:17:29.757Z"
   },
   {
    "duration": 5,
    "start_time": "2025-03-13T05:17:30.140Z"
   },
   {
    "duration": 4,
    "start_time": "2025-03-13T05:17:31.839Z"
   },
   {
    "duration": 14,
    "start_time": "2025-03-13T05:17:33.965Z"
   },
   {
    "duration": 3,
    "start_time": "2025-03-13T05:17:34.348Z"
   },
   {
    "duration": 9,
    "start_time": "2025-03-13T05:17:35.471Z"
   },
   {
    "duration": 2,
    "start_time": "2025-03-13T05:17:42.250Z"
   },
   {
    "duration": 12,
    "start_time": "2025-03-13T05:17:42.591Z"
   },
   {
    "duration": 5,
    "start_time": "2025-03-13T05:17:45.938Z"
   },
   {
    "duration": 8,
    "start_time": "2025-03-13T05:18:12.551Z"
   },
   {
    "duration": 452,
    "start_time": "2025-03-13T05:18:28.461Z"
   },
   {
    "duration": 3,
    "start_time": "2025-03-13T05:18:32.927Z"
   },
   {
    "duration": 25,
    "start_time": "2025-03-13T05:18:33.082Z"
   },
   {
    "duration": 12,
    "start_time": "2025-03-13T05:18:33.237Z"
   },
   {
    "duration": 9,
    "start_time": "2025-03-13T05:18:33.387Z"
   },
   {
    "duration": 4,
    "start_time": "2025-03-13T05:18:33.537Z"
   },
   {
    "duration": 8,
    "start_time": "2025-03-13T05:18:33.683Z"
   },
   {
    "duration": 7,
    "start_time": "2025-03-13T05:18:33.837Z"
   },
   {
    "duration": 5,
    "start_time": "2025-03-13T05:18:33.975Z"
   },
   {
    "duration": 4,
    "start_time": "2025-03-13T05:18:34.134Z"
   },
   {
    "duration": 11,
    "start_time": "2025-03-13T05:18:34.274Z"
   },
   {
    "duration": 2,
    "start_time": "2025-03-13T05:18:34.433Z"
   },
   {
    "duration": 9,
    "start_time": "2025-03-13T05:18:34.600Z"
   },
   {
    "duration": 33,
    "start_time": "2025-03-13T05:18:34.754Z"
   },
   {
    "duration": 35,
    "start_time": "2025-03-13T05:18:41.109Z"
   },
   {
    "duration": 3,
    "start_time": "2025-03-13T05:18:59.221Z"
   },
   {
    "duration": 298,
    "start_time": "2025-03-17T06:10:56.031Z"
   },
   {
    "duration": 36,
    "start_time": "2025-03-17T06:10:56.457Z"
   },
   {
    "duration": 12,
    "start_time": "2025-03-17T06:10:56.933Z"
   },
   {
    "duration": 10,
    "start_time": "2025-03-17T06:10:57.484Z"
   },
   {
    "duration": 4,
    "start_time": "2025-03-17T06:11:02.351Z"
   },
   {
    "duration": 10,
    "start_time": "2025-03-17T06:11:07.692Z"
   },
   {
    "duration": 7,
    "start_time": "2025-03-17T06:11:12.883Z"
   },
   {
    "duration": 10,
    "start_time": "2025-03-17T06:11:41.848Z"
   },
   {
    "duration": 201,
    "start_time": "2025-03-17T06:13:15.259Z"
   },
   {
    "duration": 27,
    "start_time": "2025-03-17T06:14:19.557Z"
   },
   {
    "duration": 6,
    "start_time": "2025-03-17T06:14:30.465Z"
   },
   {
    "duration": 3,
    "start_time": "2025-03-17T06:16:59.082Z"
   },
   {
    "duration": 3,
    "start_time": "2025-03-17T06:28:10.553Z"
   },
   {
    "duration": 3,
    "start_time": "2025-03-17T06:34:49.835Z"
   },
   {
    "duration": 11,
    "start_time": "2025-03-17T06:35:50.452Z"
   },
   {
    "duration": 3,
    "start_time": "2025-03-17T06:35:57.831Z"
   },
   {
    "duration": 3,
    "start_time": "2025-03-17T06:37:29.104Z"
   },
   {
    "duration": 8,
    "start_time": "2025-03-17T06:39:39.371Z"
   },
   {
    "duration": 7,
    "start_time": "2025-03-17T06:39:40.265Z"
   },
   {
    "duration": 5,
    "start_time": "2025-03-17T06:49:12.598Z"
   },
   {
    "duration": 10,
    "start_time": "2025-03-17T06:51:22.205Z"
   },
   {
    "duration": 5,
    "start_time": "2025-03-17T06:51:56.321Z"
   },
   {
    "duration": 9,
    "start_time": "2025-03-17T06:55:08.292Z"
   },
   {
    "duration": 9,
    "start_time": "2025-03-17T06:55:22.190Z"
   },
   {
    "duration": 3,
    "start_time": "2025-03-17T23:08:47.948Z"
   },
   {
    "duration": 157,
    "start_time": "2025-03-17T23:09:52.092Z"
   },
   {
    "duration": 359,
    "start_time": "2025-03-17T23:09:53.908Z"
   },
   {
    "duration": 38,
    "start_time": "2025-03-17T23:09:54.269Z"
   },
   {
    "duration": 12,
    "start_time": "2025-03-17T23:09:54.308Z"
   },
   {
    "duration": 9,
    "start_time": "2025-03-17T23:09:54.321Z"
   },
   {
    "duration": 3,
    "start_time": "2025-03-17T23:09:54.333Z"
   },
   {
    "duration": 11,
    "start_time": "2025-03-17T23:09:54.338Z"
   },
   {
    "duration": 6,
    "start_time": "2025-03-17T23:09:54.350Z"
   },
   {
    "duration": 3,
    "start_time": "2025-03-17T23:09:54.359Z"
   },
   {
    "duration": 4,
    "start_time": "2025-03-17T23:09:54.363Z"
   },
   {
    "duration": 2,
    "start_time": "2025-03-17T23:09:54.369Z"
   },
   {
    "duration": 4,
    "start_time": "2025-03-17T23:09:54.413Z"
   },
   {
    "duration": 8,
    "start_time": "2025-03-17T23:09:54.419Z"
   },
   {
    "duration": 7,
    "start_time": "2025-03-17T23:09:54.428Z"
   },
   {
    "duration": 4,
    "start_time": "2025-03-17T23:09:54.438Z"
   },
   {
    "duration": 4,
    "start_time": "2025-03-17T23:09:54.443Z"
   },
   {
    "duration": 10,
    "start_time": "2025-03-17T23:09:54.448Z"
   },
   {
    "duration": 9,
    "start_time": "2025-03-17T23:09:54.460Z"
   },
   {
    "duration": 5,
    "start_time": "2025-03-17T23:09:54.513Z"
   },
   {
    "duration": 5,
    "start_time": "2025-03-17T23:09:54.519Z"
   },
   {
    "duration": 9,
    "start_time": "2025-03-17T23:09:54.526Z"
   },
   {
    "duration": 319,
    "start_time": "2025-03-17T23:09:54.536Z"
   },
   {
    "duration": 3,
    "start_time": "2025-03-17T23:11:33.429Z"
   },
   {
    "duration": 6,
    "start_time": "2025-03-17T23:12:09.199Z"
   },
   {
    "duration": 4,
    "start_time": "2025-03-17T23:40:11.068Z"
   },
   {
    "duration": 7,
    "start_time": "2025-03-17T23:41:30.105Z"
   },
   {
    "duration": 5,
    "start_time": "2025-03-18T00:02:11.754Z"
   },
   {
    "duration": 7,
    "start_time": "2025-03-18T00:03:30.151Z"
   },
   {
    "duration": 7,
    "start_time": "2025-03-18T00:03:42.102Z"
   },
   {
    "duration": 4,
    "start_time": "2025-03-18T00:59:06.493Z"
   },
   {
    "duration": 3,
    "start_time": "2025-03-18T00:59:19.495Z"
   },
   {
    "duration": 15,
    "start_time": "2025-03-18T01:05:48.557Z"
   },
   {
    "duration": 4,
    "start_time": "2025-03-18T01:05:50.579Z"
   },
   {
    "duration": 15,
    "start_time": "2025-03-18T01:05:52.268Z"
   },
   {
    "duration": 9,
    "start_time": "2025-03-18T01:06:06.361Z"
   },
   {
    "duration": 3,
    "start_time": "2025-03-18T01:11:34.130Z"
   },
   {
    "duration": 8,
    "start_time": "2025-03-18T01:11:40.541Z"
   },
   {
    "duration": 12,
    "start_time": "2025-03-18T01:12:16.445Z"
   },
   {
    "duration": 8,
    "start_time": "2025-03-18T01:12:37.047Z"
   },
   {
    "duration": 10,
    "start_time": "2025-03-18T01:48:43.496Z"
   },
   {
    "duration": 7,
    "start_time": "2025-03-18T01:52:36.912Z"
   },
   {
    "duration": 9,
    "start_time": "2025-03-18T01:53:08.536Z"
   },
   {
    "duration": 1891,
    "start_time": "2025-03-18T01:54:30.714Z"
   },
   {
    "duration": 26,
    "start_time": "2025-03-18T01:54:32.611Z"
   },
   {
    "duration": 11,
    "start_time": "2025-03-18T01:54:32.638Z"
   },
   {
    "duration": 8,
    "start_time": "2025-03-18T01:54:32.651Z"
   },
   {
    "duration": 3,
    "start_time": "2025-03-18T01:54:32.662Z"
   },
   {
    "duration": 9,
    "start_time": "2025-03-18T01:54:32.667Z"
   },
   {
    "duration": 35,
    "start_time": "2025-03-18T01:54:32.677Z"
   },
   {
    "duration": 3,
    "start_time": "2025-03-18T01:54:32.714Z"
   },
   {
    "duration": 4,
    "start_time": "2025-03-18T01:54:32.718Z"
   },
   {
    "duration": 3,
    "start_time": "2025-03-18T01:54:32.723Z"
   },
   {
    "duration": 3,
    "start_time": "2025-03-18T01:54:32.729Z"
   },
   {
    "duration": 8,
    "start_time": "2025-03-18T01:54:32.733Z"
   },
   {
    "duration": 6,
    "start_time": "2025-03-18T01:54:32.743Z"
   },
   {
    "duration": 4,
    "start_time": "2025-03-18T01:54:32.752Z"
   },
   {
    "duration": 4,
    "start_time": "2025-03-18T01:54:32.757Z"
   },
   {
    "duration": 49,
    "start_time": "2025-03-18T01:54:32.763Z"
   },
   {
    "duration": 9,
    "start_time": "2025-03-18T01:54:32.813Z"
   },
   {
    "duration": 3,
    "start_time": "2025-03-18T01:54:32.824Z"
   },
   {
    "duration": 4,
    "start_time": "2025-03-18T01:54:32.829Z"
   },
   {
    "duration": 9,
    "start_time": "2025-03-18T01:54:32.835Z"
   },
   {
    "duration": 6,
    "start_time": "2025-03-18T01:54:32.845Z"
   },
   {
    "duration": 5,
    "start_time": "2025-03-18T01:54:32.852Z"
   },
   {
    "duration": 5,
    "start_time": "2025-03-18T01:54:32.858Z"
   },
   {
    "duration": 5,
    "start_time": "2025-03-18T01:54:32.865Z"
   },
   {
    "duration": 3,
    "start_time": "2025-03-18T01:54:32.911Z"
   },
   {
    "duration": 10,
    "start_time": "2025-03-18T01:54:32.916Z"
   },
   {
    "duration": 7,
    "start_time": "2025-03-18T01:54:32.928Z"
   },
   {
    "duration": 980,
    "start_time": "2025-03-18T01:54:32.936Z"
   },
   {
    "duration": 53,
    "start_time": "2025-03-18T01:58:35.010Z"
   },
   {
    "duration": 3,
    "start_time": "2025-03-18T01:58:45.465Z"
   },
   {
    "duration": 25,
    "start_time": "2025-03-18T01:58:45.470Z"
   },
   {
    "duration": 12,
    "start_time": "2025-03-18T01:58:45.497Z"
   },
   {
    "duration": 8,
    "start_time": "2025-03-18T01:58:45.510Z"
   },
   {
    "duration": 4,
    "start_time": "2025-03-18T01:58:45.520Z"
   },
   {
    "duration": 11,
    "start_time": "2025-03-18T01:58:45.525Z"
   },
   {
    "duration": 6,
    "start_time": "2025-03-18T01:58:45.537Z"
   },
   {
    "duration": 3,
    "start_time": "2025-03-18T01:58:45.546Z"
   },
   {
    "duration": 4,
    "start_time": "2025-03-18T01:58:45.550Z"
   },
   {
    "duration": 3,
    "start_time": "2025-03-18T01:58:45.556Z"
   },
   {
    "duration": 3,
    "start_time": "2025-03-18T01:58:45.561Z"
   },
   {
    "duration": 8,
    "start_time": "2025-03-18T01:58:45.566Z"
   },
   {
    "duration": 7,
    "start_time": "2025-03-18T01:58:45.612Z"
   },
   {
    "duration": 4,
    "start_time": "2025-03-18T01:58:45.623Z"
   },
   {
    "duration": 4,
    "start_time": "2025-03-18T01:58:45.628Z"
   },
   {
    "duration": 10,
    "start_time": "2025-03-18T01:58:45.633Z"
   },
   {
    "duration": 8,
    "start_time": "2025-03-18T01:58:45.645Z"
   },
   {
    "duration": 3,
    "start_time": "2025-03-18T01:58:45.655Z"
   },
   {
    "duration": 4,
    "start_time": "2025-03-18T01:58:45.660Z"
   },
   {
    "duration": 48,
    "start_time": "2025-03-18T01:58:45.665Z"
   },
   {
    "duration": 6,
    "start_time": "2025-03-18T01:58:45.714Z"
   },
   {
    "duration": 4,
    "start_time": "2025-03-18T01:58:45.721Z"
   },
   {
    "duration": 5,
    "start_time": "2025-03-18T01:58:45.726Z"
   },
   {
    "duration": 6,
    "start_time": "2025-03-18T01:58:45.732Z"
   },
   {
    "duration": 3,
    "start_time": "2025-03-18T01:58:45.739Z"
   },
   {
    "duration": 10,
    "start_time": "2025-03-18T01:58:45.743Z"
   },
   {
    "duration": 14,
    "start_time": "2025-03-18T01:58:45.754Z"
   },
   {
    "duration": 421,
    "start_time": "2025-03-18T01:58:45.770Z"
   },
   {
    "duration": 343,
    "start_time": "2025-03-18T01:59:22.842Z"
   },
   {
    "duration": 355,
    "start_time": "2025-03-18T01:59:31.596Z"
   },
   {
    "duration": 372,
    "start_time": "2025-03-18T02:09:32.853Z"
   },
   {
    "duration": 452,
    "start_time": "2025-03-18T02:11:14.243Z"
   },
   {
    "duration": 374,
    "start_time": "2025-03-18T02:15:19.970Z"
   },
   {
    "duration": 314,
    "start_time": "2025-03-18T02:20:21.327Z"
   },
   {
    "duration": 314,
    "start_time": "2025-03-18T02:20:40.569Z"
   },
   {
    "duration": 354,
    "start_time": "2025-03-18T02:20:45.844Z"
   },
   {
    "duration": 377,
    "start_time": "2025-03-18T02:21:03.980Z"
   },
   {
    "duration": 354,
    "start_time": "2025-03-18T03:03:39.118Z"
   },
   {
    "duration": 238,
    "start_time": "2025-03-18T03:04:47.498Z"
   },
   {
    "duration": 221,
    "start_time": "2025-03-18T03:04:57.353Z"
   },
   {
    "duration": 229,
    "start_time": "2025-03-18T03:05:01.748Z"
   },
   {
    "duration": 307,
    "start_time": "2025-03-18T03:05:32.292Z"
   },
   {
    "duration": 42,
    "start_time": "2025-03-18T03:05:45.313Z"
   },
   {
    "duration": 42,
    "start_time": "2025-03-18T03:06:01.177Z"
   },
   {
    "duration": 40,
    "start_time": "2025-03-18T03:06:07.729Z"
   },
   {
    "duration": 2,
    "start_time": "2025-03-18T03:06:11.383Z"
   },
   {
    "duration": 24,
    "start_time": "2025-03-18T03:06:11.387Z"
   },
   {
    "duration": 11,
    "start_time": "2025-03-18T03:06:11.413Z"
   },
   {
    "duration": 7,
    "start_time": "2025-03-18T03:06:11.425Z"
   },
   {
    "duration": 4,
    "start_time": "2025-03-18T03:06:11.434Z"
   },
   {
    "duration": 11,
    "start_time": "2025-03-18T03:06:11.439Z"
   },
   {
    "duration": 7,
    "start_time": "2025-03-18T03:06:11.451Z"
   },
   {
    "duration": 3,
    "start_time": "2025-03-18T03:06:11.460Z"
   },
   {
    "duration": 3,
    "start_time": "2025-03-18T03:06:11.465Z"
   },
   {
    "duration": 3,
    "start_time": "2025-03-18T03:06:11.470Z"
   },
   {
    "duration": 3,
    "start_time": "2025-03-18T03:06:11.513Z"
   },
   {
    "duration": 9,
    "start_time": "2025-03-18T03:06:11.518Z"
   },
   {
    "duration": 7,
    "start_time": "2025-03-18T03:06:11.529Z"
   },
   {
    "duration": 4,
    "start_time": "2025-03-18T03:06:11.538Z"
   },
   {
    "duration": 5,
    "start_time": "2025-03-18T03:06:11.544Z"
   },
   {
    "duration": 12,
    "start_time": "2025-03-18T03:06:11.550Z"
   },
   {
    "duration": 48,
    "start_time": "2025-03-18T03:06:11.564Z"
   },
   {
    "duration": 4,
    "start_time": "2025-03-18T03:06:11.613Z"
   },
   {
    "duration": 3,
    "start_time": "2025-03-18T03:06:11.619Z"
   },
   {
    "duration": 9,
    "start_time": "2025-03-18T03:06:11.624Z"
   },
   {
    "duration": 279,
    "start_time": "2025-03-18T03:06:11.634Z"
   },
   {
    "duration": 3,
    "start_time": "2025-03-18T03:06:11.916Z"
   },
   {
    "duration": 234,
    "start_time": "2025-03-18T03:06:11.921Z"
   },
   {
    "duration": 6,
    "start_time": "2025-03-18T03:06:12.156Z"
   },
   {
    "duration": 3,
    "start_time": "2025-03-18T03:06:12.165Z"
   },
   {
    "duration": 10,
    "start_time": "2025-03-18T03:06:12.169Z"
   },
   {
    "duration": 31,
    "start_time": "2025-03-18T03:06:12.181Z"
   },
   {
    "duration": 378,
    "start_time": "2025-03-18T03:06:12.214Z"
   },
   {
    "duration": 3,
    "start_time": "2025-03-18T03:06:22.562Z"
   },
   {
    "duration": 22,
    "start_time": "2025-03-18T03:06:22.567Z"
   },
   {
    "duration": 11,
    "start_time": "2025-03-18T03:06:22.591Z"
   },
   {
    "duration": 7,
    "start_time": "2025-03-18T03:06:22.604Z"
   },
   {
    "duration": 2,
    "start_time": "2025-03-18T03:06:22.615Z"
   },
   {
    "duration": 10,
    "start_time": "2025-03-18T03:06:22.619Z"
   },
   {
    "duration": 8,
    "start_time": "2025-03-18T03:06:22.630Z"
   },
   {
    "duration": 3,
    "start_time": "2025-03-18T03:06:22.639Z"
   },
   {
    "duration": 3,
    "start_time": "2025-03-18T03:06:22.644Z"
   },
   {
    "duration": 4,
    "start_time": "2025-03-18T03:06:22.649Z"
   },
   {
    "duration": 4,
    "start_time": "2025-03-18T03:06:22.654Z"
   },
   {
    "duration": 7,
    "start_time": "2025-03-18T03:06:22.659Z"
   },
   {
    "duration": 44,
    "start_time": "2025-03-18T03:06:22.668Z"
   },
   {
    "duration": 4,
    "start_time": "2025-03-18T03:06:22.716Z"
   },
   {
    "duration": 4,
    "start_time": "2025-03-18T03:06:22.721Z"
   },
   {
    "duration": 10,
    "start_time": "2025-03-18T03:06:22.727Z"
   },
   {
    "duration": 10,
    "start_time": "2025-03-18T03:06:22.738Z"
   },
   {
    "duration": 5,
    "start_time": "2025-03-18T03:06:22.750Z"
   },
   {
    "duration": 4,
    "start_time": "2025-03-18T03:06:22.756Z"
   },
   {
    "duration": 9,
    "start_time": "2025-03-18T03:06:22.761Z"
   },
   {
    "duration": 299,
    "start_time": "2025-03-18T03:06:22.771Z"
   },
   {
    "duration": 3,
    "start_time": "2025-03-18T03:06:23.072Z"
   },
   {
    "duration": 342,
    "start_time": "2025-03-18T03:06:23.077Z"
   },
   {
    "duration": 6,
    "start_time": "2025-03-18T03:06:23.421Z"
   },
   {
    "duration": 3,
    "start_time": "2025-03-18T03:06:23.429Z"
   },
   {
    "duration": 11,
    "start_time": "2025-03-18T03:06:23.434Z"
   },
   {
    "duration": 7,
    "start_time": "2025-03-18T03:06:23.448Z"
   },
   {
    "duration": 906,
    "start_time": "2025-03-18T03:06:23.457Z"
   },
   {
    "duration": 20,
    "start_time": "2025-03-18T03:06:58.585Z"
   },
   {
    "duration": 3,
    "start_time": "2025-03-18T03:07:05.766Z"
   },
   {
    "duration": 22,
    "start_time": "2025-03-18T03:07:05.771Z"
   },
   {
    "duration": 11,
    "start_time": "2025-03-18T03:07:05.794Z"
   },
   {
    "duration": 7,
    "start_time": "2025-03-18T03:07:05.807Z"
   },
   {
    "duration": 3,
    "start_time": "2025-03-18T03:07:05.817Z"
   },
   {
    "duration": 10,
    "start_time": "2025-03-18T03:07:05.822Z"
   },
   {
    "duration": 5,
    "start_time": "2025-03-18T03:07:05.834Z"
   },
   {
    "duration": 4,
    "start_time": "2025-03-18T03:07:05.841Z"
   },
   {
    "duration": 4,
    "start_time": "2025-03-18T03:07:05.846Z"
   },
   {
    "duration": 4,
    "start_time": "2025-03-18T03:07:05.851Z"
   },
   {
    "duration": 4,
    "start_time": "2025-03-18T03:07:05.856Z"
   },
   {
    "duration": 8,
    "start_time": "2025-03-18T03:07:05.861Z"
   },
   {
    "duration": 9,
    "start_time": "2025-03-18T03:07:05.911Z"
   },
   {
    "duration": 5,
    "start_time": "2025-03-18T03:07:05.924Z"
   },
   {
    "duration": 4,
    "start_time": "2025-03-18T03:07:05.931Z"
   },
   {
    "duration": 14,
    "start_time": "2025-03-18T03:07:05.937Z"
   },
   {
    "duration": 9,
    "start_time": "2025-03-18T03:07:05.953Z"
   },
   {
    "duration": 5,
    "start_time": "2025-03-18T03:07:05.963Z"
   },
   {
    "duration": 5,
    "start_time": "2025-03-18T03:07:05.970Z"
   },
   {
    "duration": 9,
    "start_time": "2025-03-18T03:07:06.013Z"
   },
   {
    "duration": 270,
    "start_time": "2025-03-18T03:07:06.023Z"
   },
   {
    "duration": 3,
    "start_time": "2025-03-18T03:07:06.295Z"
   },
   {
    "duration": 227,
    "start_time": "2025-03-18T03:07:06.312Z"
   },
   {
    "duration": 6,
    "start_time": "2025-03-18T03:07:06.541Z"
   },
   {
    "duration": 3,
    "start_time": "2025-03-18T03:07:06.548Z"
   },
   {
    "duration": 9,
    "start_time": "2025-03-18T03:07:06.553Z"
   },
   {
    "duration": 9,
    "start_time": "2025-03-18T03:07:06.563Z"
   },
   {
    "duration": 743,
    "start_time": "2025-03-18T03:07:06.574Z"
   },
   {
    "duration": 547,
    "start_time": "2025-03-18T03:09:32.366Z"
   },
   {
    "duration": 682,
    "start_time": "2025-03-18T03:09:42.141Z"
   },
   {
    "duration": 164,
    "start_time": "2025-03-18T03:10:06.631Z"
   },
   {
    "duration": 3,
    "start_time": "2025-03-18T03:10:39.523Z"
   },
   {
    "duration": 23,
    "start_time": "2025-03-18T03:10:39.528Z"
   },
   {
    "duration": 10,
    "start_time": "2025-03-18T03:10:39.553Z"
   },
   {
    "duration": 6,
    "start_time": "2025-03-18T03:10:39.566Z"
   },
   {
    "duration": 3,
    "start_time": "2025-03-18T03:10:39.575Z"
   },
   {
    "duration": 32,
    "start_time": "2025-03-18T03:10:39.580Z"
   },
   {
    "duration": 5,
    "start_time": "2025-03-18T03:10:39.614Z"
   },
   {
    "duration": 3,
    "start_time": "2025-03-18T03:10:39.621Z"
   },
   {
    "duration": 4,
    "start_time": "2025-03-18T03:10:39.625Z"
   },
   {
    "duration": 4,
    "start_time": "2025-03-18T03:10:39.630Z"
   },
   {
    "duration": 4,
    "start_time": "2025-03-18T03:10:39.635Z"
   },
   {
    "duration": 7,
    "start_time": "2025-03-18T03:10:39.641Z"
   },
   {
    "duration": 7,
    "start_time": "2025-03-18T03:10:39.649Z"
   },
   {
    "duration": 4,
    "start_time": "2025-03-18T03:10:39.658Z"
   },
   {
    "duration": 4,
    "start_time": "2025-03-18T03:10:39.663Z"
   },
   {
    "duration": 54,
    "start_time": "2025-03-18T03:10:39.668Z"
   },
   {
    "duration": 8,
    "start_time": "2025-03-18T03:10:39.724Z"
   },
   {
    "duration": 4,
    "start_time": "2025-03-18T03:10:39.733Z"
   },
   {
    "duration": 4,
    "start_time": "2025-03-18T03:10:39.739Z"
   },
   {
    "duration": 9,
    "start_time": "2025-03-18T03:10:39.745Z"
   },
   {
    "duration": 393,
    "start_time": "2025-03-18T03:10:39.755Z"
   },
   {
    "duration": 4,
    "start_time": "2025-03-18T03:10:40.149Z"
   },
   {
    "duration": 228,
    "start_time": "2025-03-18T03:10:40.155Z"
   },
   {
    "duration": 8,
    "start_time": "2025-03-18T03:10:40.385Z"
   },
   {
    "duration": 18,
    "start_time": "2025-03-18T03:10:40.394Z"
   },
   {
    "duration": 9,
    "start_time": "2025-03-18T03:10:40.413Z"
   },
   {
    "duration": 10,
    "start_time": "2025-03-18T03:10:40.423Z"
   },
   {
    "duration": 211,
    "start_time": "2025-03-18T03:10:40.435Z"
   },
   {
    "duration": 365,
    "start_time": "2025-03-18T03:10:56.649Z"
   },
   {
    "duration": 362,
    "start_time": "2025-03-18T03:11:08.426Z"
   },
   {
    "duration": 746,
    "start_time": "2025-03-18T03:12:09.059Z"
   },
   {
    "duration": 371,
    "start_time": "2025-03-18T03:13:42.731Z"
   },
   {
    "duration": 273,
    "start_time": "2025-03-18T03:15:01.903Z"
   },
   {
    "duration": 197,
    "start_time": "2025-03-18T04:23:58.359Z"
   },
   {
    "duration": 2,
    "start_time": "2025-03-18T04:24:20.426Z"
   },
   {
    "duration": 22,
    "start_time": "2025-03-18T04:24:20.430Z"
   },
   {
    "duration": 10,
    "start_time": "2025-03-18T04:24:20.454Z"
   },
   {
    "duration": 7,
    "start_time": "2025-03-18T04:24:20.466Z"
   },
   {
    "duration": 3,
    "start_time": "2025-03-18T04:24:20.476Z"
   },
   {
    "duration": 32,
    "start_time": "2025-03-18T04:24:20.480Z"
   },
   {
    "duration": 6,
    "start_time": "2025-03-18T04:24:20.513Z"
   },
   {
    "duration": 3,
    "start_time": "2025-03-18T04:24:20.521Z"
   },
   {
    "duration": 4,
    "start_time": "2025-03-18T04:24:20.525Z"
   },
   {
    "duration": 4,
    "start_time": "2025-03-18T04:24:20.531Z"
   },
   {
    "duration": 3,
    "start_time": "2025-03-18T04:24:20.537Z"
   },
   {
    "duration": 9,
    "start_time": "2025-03-18T04:24:20.542Z"
   },
   {
    "duration": 9,
    "start_time": "2025-03-18T04:24:20.554Z"
   },
   {
    "duration": 4,
    "start_time": "2025-03-18T04:24:20.566Z"
   },
   {
    "duration": 40,
    "start_time": "2025-03-18T04:24:20.572Z"
   },
   {
    "duration": 11,
    "start_time": "2025-03-18T04:24:20.614Z"
   },
   {
    "duration": 8,
    "start_time": "2025-03-18T04:24:20.627Z"
   },
   {
    "duration": 4,
    "start_time": "2025-03-18T04:24:20.637Z"
   },
   {
    "duration": 4,
    "start_time": "2025-03-18T04:24:20.644Z"
   },
   {
    "duration": 9,
    "start_time": "2025-03-18T04:24:20.649Z"
   },
   {
    "duration": 296,
    "start_time": "2025-03-18T04:24:20.659Z"
   },
   {
    "duration": 4,
    "start_time": "2025-03-18T04:24:20.957Z"
   },
   {
    "duration": 231,
    "start_time": "2025-03-18T04:24:20.963Z"
   },
   {
    "duration": 5,
    "start_time": "2025-03-18T04:24:21.196Z"
   },
   {
    "duration": 14,
    "start_time": "2025-03-18T04:24:21.202Z"
   },
   {
    "duration": 9,
    "start_time": "2025-03-18T04:24:21.218Z"
   },
   {
    "duration": 9,
    "start_time": "2025-03-18T04:24:21.229Z"
   },
   {
    "duration": 282,
    "start_time": "2025-03-18T04:24:21.240Z"
   },
   {
    "duration": 36,
    "start_time": "2025-03-18T04:24:21.524Z"
   },
   {
    "duration": 38,
    "start_time": "2025-03-18T04:24:31.008Z"
   },
   {
    "duration": 8,
    "start_time": "2025-03-18T04:29:12.969Z"
   },
   {
    "duration": 9,
    "start_time": "2025-03-18T04:38:29.289Z"
   },
   {
    "duration": 11,
    "start_time": "2025-03-18T05:19:18.549Z"
   },
   {
    "duration": 166,
    "start_time": "2025-03-18T15:19:16.788Z"
   },
   {
    "duration": 2267,
    "start_time": "2025-03-18T15:19:19.726Z"
   },
   {
    "duration": 86,
    "start_time": "2025-03-18T15:19:21.995Z"
   },
   {
    "duration": 12,
    "start_time": "2025-03-18T15:19:22.083Z"
   },
   {
    "duration": 9,
    "start_time": "2025-03-18T15:19:22.097Z"
   },
   {
    "duration": 3,
    "start_time": "2025-03-18T15:19:22.109Z"
   },
   {
    "duration": 11,
    "start_time": "2025-03-18T15:19:22.114Z"
   },
   {
    "duration": 6,
    "start_time": "2025-03-18T15:19:22.126Z"
   },
   {
    "duration": 3,
    "start_time": "2025-03-18T15:19:22.134Z"
   },
   {
    "duration": 3,
    "start_time": "2025-03-18T15:19:22.139Z"
   },
   {
    "duration": 3,
    "start_time": "2025-03-18T15:19:22.144Z"
   },
   {
    "duration": 4,
    "start_time": "2025-03-18T15:19:22.148Z"
   },
   {
    "duration": 7,
    "start_time": "2025-03-18T15:19:22.154Z"
   },
   {
    "duration": 44,
    "start_time": "2025-03-18T15:19:22.162Z"
   },
   {
    "duration": 4,
    "start_time": "2025-03-18T15:19:22.209Z"
   },
   {
    "duration": 4,
    "start_time": "2025-03-18T15:19:22.215Z"
   },
   {
    "duration": 10,
    "start_time": "2025-03-18T15:19:22.220Z"
   },
   {
    "duration": 9,
    "start_time": "2025-03-18T15:19:22.232Z"
   },
   {
    "duration": 4,
    "start_time": "2025-03-18T15:19:22.242Z"
   },
   {
    "duration": 5,
    "start_time": "2025-03-18T15:19:22.249Z"
   },
   {
    "duration": 51,
    "start_time": "2025-03-18T15:19:22.255Z"
   },
   {
    "duration": 313,
    "start_time": "2025-03-18T15:19:22.307Z"
   },
   {
    "duration": 4,
    "start_time": "2025-03-18T15:19:22.623Z"
   },
   {
    "duration": 250,
    "start_time": "2025-03-18T15:19:22.629Z"
   },
   {
    "duration": 6,
    "start_time": "2025-03-18T15:19:22.881Z"
   },
   {
    "duration": 3,
    "start_time": "2025-03-18T15:19:22.889Z"
   },
   {
    "duration": 14,
    "start_time": "2025-03-18T15:19:22.906Z"
   },
   {
    "duration": 9,
    "start_time": "2025-03-18T15:19:22.922Z"
   },
   {
    "duration": 292,
    "start_time": "2025-03-18T15:19:22.933Z"
   },
   {
    "duration": 1036,
    "start_time": "2025-03-18T15:19:23.227Z"
   },
   {
    "duration": 0,
    "start_time": "2025-03-18T15:19:24.265Z"
   },
   {
    "duration": 0,
    "start_time": "2025-03-18T15:19:24.266Z"
   },
   {
    "duration": 127,
    "start_time": "2025-03-18T15:19:48.092Z"
   },
   {
    "duration": 87,
    "start_time": "2025-03-18T15:19:50.514Z"
   },
   {
    "duration": 12,
    "start_time": "2025-03-18T15:20:13.623Z"
   },
   {
    "duration": 6,
    "start_time": "2025-03-18T15:20:16.014Z"
   },
   {
    "duration": 5,
    "start_time": "2025-03-18T15:20:20.105Z"
   },
   {
    "duration": 7,
    "start_time": "2025-03-18T15:20:38.412Z"
   },
   {
    "duration": 6,
    "start_time": "2025-03-18T15:26:44.221Z"
   },
   {
    "duration": 6,
    "start_time": "2025-03-18T15:26:53.283Z"
   },
   {
    "duration": 16,
    "start_time": "2025-03-18T15:28:01.638Z"
   },
   {
    "duration": 163,
    "start_time": "2025-03-18T15:28:10.489Z"
   },
   {
    "duration": 17,
    "start_time": "2025-03-18T15:31:49.954Z"
   },
   {
    "duration": 17,
    "start_time": "2025-03-18T15:31:56.230Z"
   },
   {
    "duration": 15,
    "start_time": "2025-03-18T15:32:07.469Z"
   },
   {
    "duration": 104,
    "start_time": "2025-03-18T15:32:26.473Z"
   },
   {
    "duration": 103,
    "start_time": "2025-03-18T15:33:01.828Z"
   },
   {
    "duration": 15,
    "start_time": "2025-03-18T15:33:25.076Z"
   },
   {
    "duration": 15,
    "start_time": "2025-03-18T15:33:38.449Z"
   },
   {
    "duration": 16,
    "start_time": "2025-03-18T15:33:57.945Z"
   },
   {
    "duration": 15,
    "start_time": "2025-03-18T15:34:17.614Z"
   },
   {
    "duration": 166,
    "start_time": "2025-03-18T15:34:22.222Z"
   },
   {
    "duration": 197,
    "start_time": "2025-03-18T15:34:51.831Z"
   },
   {
    "duration": 134,
    "start_time": "2025-03-18T15:35:04.310Z"
   },
   {
    "duration": 171,
    "start_time": "2025-03-18T15:35:22.611Z"
   },
   {
    "duration": 204,
    "start_time": "2025-03-18T15:35:29.712Z"
   },
   {
    "duration": 18,
    "start_time": "2025-03-18T16:23:12.558Z"
   },
   {
    "duration": 886,
    "start_time": "2025-03-18T16:23:24.254Z"
   },
   {
    "duration": 142,
    "start_time": "2025-03-18T16:24:47.595Z"
   },
   {
    "duration": 4,
    "start_time": "2025-03-18T16:25:44.886Z"
   },
   {
    "duration": 161,
    "start_time": "2025-03-18T16:35:53.712Z"
   },
   {
    "duration": 18,
    "start_time": "2025-03-18T16:36:58.933Z"
   },
   {
    "duration": 16,
    "start_time": "2025-03-18T16:37:21.741Z"
   },
   {
    "duration": 292,
    "start_time": "2025-03-18T16:37:30.999Z"
   },
   {
    "duration": 794,
    "start_time": "2025-03-18T16:38:22.602Z"
   },
   {
    "duration": 17,
    "start_time": "2025-03-18T16:38:52.654Z"
   },
   {
    "duration": 190,
    "start_time": "2025-03-18T16:39:22.780Z"
   },
   {
    "duration": 1197,
    "start_time": "2025-03-18T16:40:14.691Z"
   },
   {
    "duration": 829,
    "start_time": "2025-03-18T16:40:41.643Z"
   },
   {
    "duration": 147,
    "start_time": "2025-03-18T16:41:46.760Z"
   },
   {
    "duration": 158,
    "start_time": "2025-03-18T16:42:00.659Z"
   },
   {
    "duration": 136,
    "start_time": "2025-03-18T16:42:07.491Z"
   },
   {
    "duration": 8,
    "start_time": "2025-03-20T18:14:03.721Z"
   },
   {
    "duration": 181,
    "start_time": "2025-03-20T18:14:09.186Z"
   },
   {
    "duration": 2146,
    "start_time": "2025-03-20T18:14:12.231Z"
   },
   {
    "duration": 37,
    "start_time": "2025-03-20T18:14:14.379Z"
   },
   {
    "duration": 12,
    "start_time": "2025-03-20T18:14:14.417Z"
   },
   {
    "duration": 29,
    "start_time": "2025-03-20T18:14:14.430Z"
   },
   {
    "duration": 3,
    "start_time": "2025-03-20T18:14:14.461Z"
   },
   {
    "duration": 10,
    "start_time": "2025-03-20T18:14:14.466Z"
   },
   {
    "duration": 5,
    "start_time": "2025-03-20T18:14:14.478Z"
   },
   {
    "duration": 3,
    "start_time": "2025-03-20T18:14:14.485Z"
   },
   {
    "duration": 13,
    "start_time": "2025-03-20T18:14:14.490Z"
   },
   {
    "duration": 4,
    "start_time": "2025-03-20T18:14:14.512Z"
   },
   {
    "duration": 3,
    "start_time": "2025-03-20T18:14:14.517Z"
   },
   {
    "duration": 7,
    "start_time": "2025-03-20T18:14:14.522Z"
   },
   {
    "duration": 6,
    "start_time": "2025-03-20T18:14:14.531Z"
   },
   {
    "duration": 4,
    "start_time": "2025-03-20T18:14:14.541Z"
   },
   {
    "duration": 4,
    "start_time": "2025-03-20T18:14:14.546Z"
   },
   {
    "duration": 10,
    "start_time": "2025-03-20T18:14:14.552Z"
   },
   {
    "duration": 49,
    "start_time": "2025-03-20T18:14:14.563Z"
   },
   {
    "duration": 4,
    "start_time": "2025-03-20T18:14:14.614Z"
   },
   {
    "duration": 4,
    "start_time": "2025-03-20T18:14:14.620Z"
   },
   {
    "duration": 9,
    "start_time": "2025-03-20T18:14:14.626Z"
   },
   {
    "duration": 360,
    "start_time": "2025-03-20T18:14:14.637Z"
   },
   {
    "duration": 4,
    "start_time": "2025-03-20T18:14:14.999Z"
   },
   {
    "duration": 229,
    "start_time": "2025-03-20T18:14:15.012Z"
   },
   {
    "duration": 6,
    "start_time": "2025-03-20T18:14:15.244Z"
   },
   {
    "duration": 3,
    "start_time": "2025-03-20T18:14:15.251Z"
   },
   {
    "duration": 10,
    "start_time": "2025-03-20T18:14:15.256Z"
   },
   {
    "duration": 9,
    "start_time": "2025-03-20T18:14:15.267Z"
   },
   {
    "duration": 308,
    "start_time": "2025-03-20T18:14:15.279Z"
   },
   {
    "duration": 12,
    "start_time": "2025-03-20T18:14:15.589Z"
   },
   {
    "duration": 5,
    "start_time": "2025-03-20T18:14:15.612Z"
   },
   {
    "duration": 164,
    "start_time": "2025-03-20T18:14:15.619Z"
   },
   {
    "duration": 109,
    "start_time": "2025-03-20T18:14:15.785Z"
   },
   {
    "duration": 176,
    "start_time": "2025-03-20T18:14:15.896Z"
   },
   {
    "duration": 4,
    "start_time": "2025-03-20T18:14:16.074Z"
   },
   {
    "duration": 47,
    "start_time": "2025-03-20T18:14:16.080Z"
   },
   {
    "duration": 0,
    "start_time": "2025-03-20T18:14:16.129Z"
   },
   {
    "duration": 0,
    "start_time": "2025-03-20T18:14:16.130Z"
   },
   {
    "duration": 0,
    "start_time": "2025-03-20T18:14:16.131Z"
   },
   {
    "duration": 2,
    "start_time": "2025-03-20T18:14:32.816Z"
   },
   {
    "duration": 20,
    "start_time": "2025-03-20T18:14:32.977Z"
   },
   {
    "duration": 11,
    "start_time": "2025-03-20T18:14:33.115Z"
   },
   {
    "duration": 8,
    "start_time": "2025-03-20T18:14:33.264Z"
   },
   {
    "duration": 4,
    "start_time": "2025-03-20T18:14:33.397Z"
   },
   {
    "duration": 11,
    "start_time": "2025-03-20T18:14:33.809Z"
   },
   {
    "duration": 6,
    "start_time": "2025-03-20T18:14:33.955Z"
   },
   {
    "duration": 3,
    "start_time": "2025-03-20T18:14:34.092Z"
   },
   {
    "duration": 3,
    "start_time": "2025-03-20T18:14:34.237Z"
   },
   {
    "duration": 4,
    "start_time": "2025-03-20T18:14:34.826Z"
   },
   {
    "duration": 4,
    "start_time": "2025-03-20T18:14:34.974Z"
   },
   {
    "duration": 9,
    "start_time": "2025-03-20T18:14:35.852Z"
   },
   {
    "duration": 8,
    "start_time": "2025-03-20T18:14:35.998Z"
   },
   {
    "duration": 4,
    "start_time": "2025-03-20T18:14:36.297Z"
   },
   {
    "duration": 4,
    "start_time": "2025-03-20T18:14:36.632Z"
   },
   {
    "duration": 11,
    "start_time": "2025-03-20T18:14:36.961Z"
   },
   {
    "duration": 12,
    "start_time": "2025-03-20T18:14:37.446Z"
   },
   {
    "duration": 4,
    "start_time": "2025-03-20T18:14:37.613Z"
   },
   {
    "duration": 4,
    "start_time": "2025-03-20T18:14:38.476Z"
   },
   {
    "duration": 10,
    "start_time": "2025-03-20T18:14:38.650Z"
   },
   {
    "duration": 258,
    "start_time": "2025-03-20T18:14:38.993Z"
   },
   {
    "duration": 4,
    "start_time": "2025-03-20T18:14:39.253Z"
   },
   {
    "duration": 291,
    "start_time": "2025-03-20T18:14:39.320Z"
   },
   {
    "duration": 6,
    "start_time": "2025-03-20T18:14:39.614Z"
   },
   {
    "duration": 3,
    "start_time": "2025-03-20T18:14:39.699Z"
   },
   {
    "duration": 10,
    "start_time": "2025-03-20T18:14:39.874Z"
   },
   {
    "duration": 9,
    "start_time": "2025-03-20T18:14:40.066Z"
   },
   {
    "duration": 257,
    "start_time": "2025-03-20T18:14:40.216Z"
   },
   {
    "duration": 12,
    "start_time": "2025-03-20T18:14:40.549Z"
   },
   {
    "duration": 5,
    "start_time": "2025-03-20T18:14:40.879Z"
   },
   {
    "duration": 157,
    "start_time": "2025-03-20T18:14:41.239Z"
   },
   {
    "duration": 97,
    "start_time": "2025-03-20T18:14:41.602Z"
   },
   {
    "duration": 126,
    "start_time": "2025-03-20T18:14:41.959Z"
   },
   {
    "duration": 4,
    "start_time": "2025-03-20T18:14:42.198Z"
   },
   {
    "duration": 14,
    "start_time": "2025-03-20T18:14:42.504Z"
   },
   {
    "duration": 14,
    "start_time": "2025-03-20T18:14:42.699Z"
   },
   {
    "duration": 2,
    "start_time": "2025-03-20T18:14:43.083Z"
   },
   {
    "duration": 16,
    "start_time": "2025-03-20T18:14:43.258Z"
   },
   {
    "duration": 141,
    "start_time": "2025-03-20T18:15:08.436Z"
   },
   {
    "duration": 158,
    "start_time": "2025-03-20T18:15:14.207Z"
   },
   {
    "duration": 17,
    "start_time": "2025-03-20T18:15:18.194Z"
   },
   {
    "duration": 6,
    "start_time": "2025-03-20T18:15:25.587Z"
   },
   {
    "duration": 6,
    "start_time": "2025-03-20T18:15:35.009Z"
   },
   {
    "duration": 6,
    "start_time": "2025-03-20T18:15:58.315Z"
   },
   {
    "duration": 177,
    "start_time": "2025-03-20T18:16:20.819Z"
   },
   {
    "duration": 6,
    "start_time": "2025-03-20T18:16:40.298Z"
   },
   {
    "duration": 5,
    "start_time": "2025-03-20T18:16:56.126Z"
   },
   {
    "duration": 7,
    "start_time": "2025-03-20T18:19:52.708Z"
   },
   {
    "duration": 5,
    "start_time": "2025-03-20T18:20:07.010Z"
   },
   {
    "duration": 5,
    "start_time": "2025-03-20T18:20:40.128Z"
   },
   {
    "duration": 6,
    "start_time": "2025-03-20T18:20:49.681Z"
   },
   {
    "duration": 6,
    "start_time": "2025-03-20T18:20:50.536Z"
   },
   {
    "duration": 6,
    "start_time": "2025-03-20T18:21:04.995Z"
   },
   {
    "duration": 6,
    "start_time": "2025-03-20T18:21:07.091Z"
   },
   {
    "duration": 6,
    "start_time": "2025-03-20T18:21:17.660Z"
   },
   {
    "duration": 6,
    "start_time": "2025-03-20T18:21:17.957Z"
   },
   {
    "duration": 5,
    "start_time": "2025-03-20T18:21:18.391Z"
   },
   {
    "duration": 536,
    "start_time": "2025-03-20T18:23:16.427Z"
   },
   {
    "duration": 151,
    "start_time": "2025-03-20T18:23:27.638Z"
   },
   {
    "duration": 151,
    "start_time": "2025-03-20T18:23:42.983Z"
   },
   {
    "duration": 145,
    "start_time": "2025-03-20T18:23:48.090Z"
   },
   {
    "duration": 639,
    "start_time": "2025-03-20T18:24:38.009Z"
   },
   {
    "duration": 208,
    "start_time": "2025-03-20T18:25:47.540Z"
   },
   {
    "duration": 438,
    "start_time": "2025-03-20T18:25:56.992Z"
   },
   {
    "duration": 6,
    "start_time": "2025-03-20T18:33:59.203Z"
   },
   {
    "duration": 5,
    "start_time": "2025-03-20T18:46:27.496Z"
   },
   {
    "duration": 6,
    "start_time": "2025-03-20T18:46:44.589Z"
   },
   {
    "duration": 4,
    "start_time": "2025-03-20T18:47:26.005Z"
   },
   {
    "duration": 390,
    "start_time": "2025-03-20T18:47:31.253Z"
   },
   {
    "duration": 98,
    "start_time": "2025-03-20T18:50:14.910Z"
   },
   {
    "duration": 307,
    "start_time": "2025-03-20T18:50:39.423Z"
   },
   {
    "duration": 5,
    "start_time": "2025-03-20T18:52:53.194Z"
   },
   {
    "duration": 15,
    "start_time": "2025-03-20T18:53:02.089Z"
   },
   {
    "duration": 15,
    "start_time": "2025-03-20T18:53:13.013Z"
   },
   {
    "duration": 182,
    "start_time": "2025-03-20T18:55:32.381Z"
   },
   {
    "duration": 5,
    "start_time": "2025-03-20T18:56:46.603Z"
   },
   {
    "duration": 390,
    "start_time": "2025-03-20T18:56:50.306Z"
   },
   {
    "duration": 2005,
    "start_time": "2025-03-24T03:39:01.231Z"
   },
   {
    "duration": 35,
    "start_time": "2025-03-24T03:39:03.239Z"
   },
   {
    "duration": 11,
    "start_time": "2025-03-24T03:39:03.275Z"
   },
   {
    "duration": 8,
    "start_time": "2025-03-24T03:39:03.288Z"
   },
   {
    "duration": 11,
    "start_time": "2025-03-24T03:39:03.300Z"
   },
   {
    "duration": 10,
    "start_time": "2025-03-24T03:39:03.312Z"
   },
   {
    "duration": 6,
    "start_time": "2025-03-24T03:39:03.324Z"
   },
   {
    "duration": 4,
    "start_time": "2025-03-24T03:39:03.332Z"
   },
   {
    "duration": 3,
    "start_time": "2025-03-24T03:39:03.337Z"
   },
   {
    "duration": 3,
    "start_time": "2025-03-24T03:39:03.342Z"
   },
   {
    "duration": 3,
    "start_time": "2025-03-24T03:39:03.347Z"
   },
   {
    "duration": 8,
    "start_time": "2025-03-24T03:39:03.352Z"
   },
   {
    "duration": 50,
    "start_time": "2025-03-24T03:39:03.361Z"
   },
   {
    "duration": 3,
    "start_time": "2025-03-24T03:39:03.414Z"
   },
   {
    "duration": 4,
    "start_time": "2025-03-24T03:39:03.419Z"
   },
   {
    "duration": 11,
    "start_time": "2025-03-24T03:39:03.424Z"
   },
   {
    "duration": 9,
    "start_time": "2025-03-24T03:39:03.436Z"
   },
   {
    "duration": 4,
    "start_time": "2025-03-24T03:39:03.446Z"
   },
   {
    "duration": 5,
    "start_time": "2025-03-24T03:39:03.451Z"
   },
   {
    "duration": 9,
    "start_time": "2025-03-24T03:39:03.457Z"
   },
   {
    "duration": 345,
    "start_time": "2025-03-24T03:39:03.468Z"
   },
   {
    "duration": 4,
    "start_time": "2025-03-24T03:39:03.815Z"
   },
   {
    "duration": 232,
    "start_time": "2025-03-24T03:39:03.820Z"
   },
   {
    "duration": 6,
    "start_time": "2025-03-24T03:39:04.053Z"
   },
   {
    "duration": 4,
    "start_time": "2025-03-24T03:39:04.060Z"
   },
   {
    "duration": 9,
    "start_time": "2025-03-24T03:39:04.065Z"
   },
   {
    "duration": 36,
    "start_time": "2025-03-24T03:39:04.076Z"
   },
   {
    "duration": 280,
    "start_time": "2025-03-24T03:39:04.114Z"
   },
   {
    "duration": 16,
    "start_time": "2025-03-24T03:39:04.396Z"
   },
   {
    "duration": 4,
    "start_time": "2025-03-24T03:39:04.414Z"
   },
   {
    "duration": 168,
    "start_time": "2025-03-24T03:39:04.420Z"
   },
   {
    "duration": 108,
    "start_time": "2025-03-24T03:39:04.591Z"
   },
   {
    "duration": 155,
    "start_time": "2025-03-24T03:39:04.701Z"
   },
   {
    "duration": 4,
    "start_time": "2025-03-24T03:39:04.858Z"
   },
   {
    "duration": 141,
    "start_time": "2025-03-24T03:39:04.863Z"
   },
   {
    "duration": 171,
    "start_time": "2025-03-24T03:39:05.005Z"
   },
   {
    "duration": 6,
    "start_time": "2025-03-24T03:39:05.178Z"
   },
   {
    "duration": 5,
    "start_time": "2025-03-24T03:39:05.185Z"
   },
   {
    "duration": 22,
    "start_time": "2025-03-24T03:39:05.192Z"
   },
   {
    "duration": 7,
    "start_time": "2025-03-24T03:39:05.215Z"
   },
   {
    "duration": 6,
    "start_time": "2025-03-24T03:39:05.228Z"
   },
   {
    "duration": 6,
    "start_time": "2025-03-24T03:39:05.235Z"
   },
   {
    "duration": 5,
    "start_time": "2025-03-24T03:39:05.243Z"
   },
   {
    "duration": 6,
    "start_time": "2025-03-24T03:39:05.250Z"
   },
   {
    "duration": 6,
    "start_time": "2025-03-24T03:39:05.257Z"
   },
   {
    "duration": 478,
    "start_time": "2025-03-24T03:39:05.265Z"
   },
   {
    "duration": 308,
    "start_time": "2025-03-24T03:39:05.744Z"
   },
   {
    "duration": 8,
    "start_time": "2025-03-24T03:39:06.054Z"
   },
   {
    "duration": 10,
    "start_time": "2025-03-24T03:39:44.184Z"
   },
   {
    "duration": 8,
    "start_time": "2025-03-24T03:41:25.103Z"
   },
   {
    "duration": 7,
    "start_time": "2025-03-24T03:41:31.073Z"
   },
   {
    "duration": 229,
    "start_time": "2025-03-24T05:03:32.940Z"
   },
   {
    "duration": 276,
    "start_time": "2025-03-24T05:04:14.314Z"
   },
   {
    "duration": 226,
    "start_time": "2025-03-24T05:04:28.220Z"
   },
   {
    "duration": 134,
    "start_time": "2025-03-24T05:05:04.320Z"
   },
   {
    "duration": 144,
    "start_time": "2025-03-24T05:06:28.498Z"
   },
   {
    "duration": 141,
    "start_time": "2025-03-24T05:06:34.946Z"
   },
   {
    "duration": 155,
    "start_time": "2025-03-24T05:06:41.359Z"
   },
   {
    "duration": 141,
    "start_time": "2025-03-24T05:06:46.702Z"
   },
   {
    "duration": 145,
    "start_time": "2025-03-24T05:06:55.274Z"
   },
   {
    "duration": 144,
    "start_time": "2025-03-24T05:07:02.129Z"
   },
   {
    "duration": 152,
    "start_time": "2025-03-24T05:08:52.597Z"
   },
   {
    "duration": 234,
    "start_time": "2025-03-24T05:08:58.070Z"
   },
   {
    "duration": 254,
    "start_time": "2025-03-24T05:15:07.435Z"
   },
   {
    "duration": 134,
    "start_time": "2025-03-24T05:15:49.365Z"
   },
   {
    "duration": 145,
    "start_time": "2025-03-24T05:15:57.293Z"
   },
   {
    "duration": 2,
    "start_time": "2025-03-24T05:18:53.158Z"
   },
   {
    "duration": 26,
    "start_time": "2025-03-24T05:18:53.162Z"
   },
   {
    "duration": 13,
    "start_time": "2025-03-24T05:18:53.190Z"
   },
   {
    "duration": 8,
    "start_time": "2025-03-24T05:18:53.204Z"
   },
   {
    "duration": 3,
    "start_time": "2025-03-24T05:18:53.214Z"
   },
   {
    "duration": 12,
    "start_time": "2025-03-24T05:18:53.219Z"
   },
   {
    "duration": 8,
    "start_time": "2025-03-24T05:18:53.232Z"
   },
   {
    "duration": 5,
    "start_time": "2025-03-24T05:18:53.242Z"
   },
   {
    "duration": 3,
    "start_time": "2025-03-24T05:18:53.251Z"
   },
   {
    "duration": 5,
    "start_time": "2025-03-24T05:18:53.256Z"
   },
   {
    "duration": 2,
    "start_time": "2025-03-24T05:18:53.265Z"
   },
   {
    "duration": 10,
    "start_time": "2025-03-24T05:18:53.269Z"
   },
   {
    "duration": 7,
    "start_time": "2025-03-24T05:18:53.311Z"
   },
   {
    "duration": 4,
    "start_time": "2025-03-24T05:18:53.319Z"
   },
   {
    "duration": 3,
    "start_time": "2025-03-24T05:18:53.326Z"
   },
   {
    "duration": 10,
    "start_time": "2025-03-24T05:18:53.330Z"
   },
   {
    "duration": 8,
    "start_time": "2025-03-24T05:18:53.342Z"
   },
   {
    "duration": 4,
    "start_time": "2025-03-24T05:18:53.352Z"
   },
   {
    "duration": 4,
    "start_time": "2025-03-24T05:18:53.358Z"
   },
   {
    "duration": 8,
    "start_time": "2025-03-24T05:18:53.364Z"
   },
   {
    "duration": 306,
    "start_time": "2025-03-24T05:18:53.373Z"
   },
   {
    "duration": 4,
    "start_time": "2025-03-24T05:18:53.680Z"
   },
   {
    "duration": 232,
    "start_time": "2025-03-24T05:18:53.685Z"
   },
   {
    "duration": 5,
    "start_time": "2025-03-24T05:18:53.919Z"
   },
   {
    "duration": 3,
    "start_time": "2025-03-24T05:18:53.926Z"
   },
   {
    "duration": 9,
    "start_time": "2025-03-24T05:18:53.931Z"
   },
   {
    "duration": 8,
    "start_time": "2025-03-24T05:18:53.942Z"
   },
   {
    "duration": 285,
    "start_time": "2025-03-24T05:18:53.951Z"
   },
   {
    "duration": 10,
    "start_time": "2025-03-24T05:18:54.241Z"
   },
   {
    "duration": 4,
    "start_time": "2025-03-24T05:18:54.253Z"
   },
   {
    "duration": 222,
    "start_time": "2025-03-24T05:18:54.258Z"
   },
   {
    "duration": 132,
    "start_time": "2025-03-24T05:18:54.482Z"
   },
   {
    "duration": 4,
    "start_time": "2025-03-24T05:18:54.615Z"
   },
   {
    "duration": 158,
    "start_time": "2025-03-24T05:18:54.620Z"
   },
   {
    "duration": 171,
    "start_time": "2025-03-24T05:18:54.780Z"
   },
   {
    "duration": 5,
    "start_time": "2025-03-24T05:18:54.953Z"
   },
   {
    "duration": 6,
    "start_time": "2025-03-24T05:18:54.960Z"
   },
   {
    "duration": 5,
    "start_time": "2025-03-24T05:18:54.967Z"
   },
   {
    "duration": 4,
    "start_time": "2025-03-24T05:18:54.975Z"
   },
   {
    "duration": 31,
    "start_time": "2025-03-24T05:18:54.981Z"
   },
   {
    "duration": 6,
    "start_time": "2025-03-24T05:18:55.013Z"
   },
   {
    "duration": 7,
    "start_time": "2025-03-24T05:18:55.021Z"
   },
   {
    "duration": 5,
    "start_time": "2025-03-24T05:18:55.030Z"
   },
   {
    "duration": 6,
    "start_time": "2025-03-24T05:18:55.036Z"
   },
   {
    "duration": 428,
    "start_time": "2025-03-24T05:18:55.043Z"
   },
   {
    "duration": 8,
    "start_time": "2025-03-24T05:18:55.473Z"
   },
   {
    "duration": 9,
    "start_time": "2025-03-24T05:18:55.482Z"
   },
   {
    "duration": 4,
    "start_time": "2025-03-24T05:24:41.738Z"
   },
   {
    "duration": 3,
    "start_time": "2025-03-24T05:24:45.726Z"
   },
   {
    "duration": 2,
    "start_time": "2025-03-24T05:41:44.117Z"
   },
   {
    "duration": 25,
    "start_time": "2025-03-24T05:41:44.122Z"
   },
   {
    "duration": 11,
    "start_time": "2025-03-24T05:41:44.148Z"
   },
   {
    "duration": 8,
    "start_time": "2025-03-24T05:41:44.160Z"
   },
   {
    "duration": 3,
    "start_time": "2025-03-24T05:41:44.170Z"
   },
   {
    "duration": 46,
    "start_time": "2025-03-24T05:41:44.174Z"
   },
   {
    "duration": 5,
    "start_time": "2025-03-24T05:41:44.221Z"
   },
   {
    "duration": 3,
    "start_time": "2025-03-24T05:41:44.228Z"
   },
   {
    "duration": 3,
    "start_time": "2025-03-24T05:41:44.233Z"
   },
   {
    "duration": 3,
    "start_time": "2025-03-24T05:41:44.238Z"
   },
   {
    "duration": 3,
    "start_time": "2025-03-24T05:41:44.243Z"
   },
   {
    "duration": 7,
    "start_time": "2025-03-24T05:41:44.248Z"
   },
   {
    "duration": 7,
    "start_time": "2025-03-24T05:41:44.257Z"
   },
   {
    "duration": 3,
    "start_time": "2025-03-24T05:41:44.268Z"
   },
   {
    "duration": 41,
    "start_time": "2025-03-24T05:41:44.273Z"
   },
   {
    "duration": 9,
    "start_time": "2025-03-24T05:41:44.316Z"
   },
   {
    "duration": 9,
    "start_time": "2025-03-24T05:41:44.327Z"
   },
   {
    "duration": 5,
    "start_time": "2025-03-24T05:41:44.337Z"
   },
   {
    "duration": 4,
    "start_time": "2025-03-24T05:41:44.343Z"
   },
   {
    "duration": 8,
    "start_time": "2025-03-24T05:41:44.349Z"
   },
   {
    "duration": 297,
    "start_time": "2025-03-24T05:41:44.358Z"
   },
   {
    "duration": 4,
    "start_time": "2025-03-24T05:41:44.657Z"
   },
   {
    "duration": 237,
    "start_time": "2025-03-24T05:41:44.662Z"
   },
   {
    "duration": 14,
    "start_time": "2025-03-24T05:41:44.901Z"
   },
   {
    "duration": 3,
    "start_time": "2025-03-24T05:41:44.917Z"
   },
   {
    "duration": 10,
    "start_time": "2025-03-24T05:41:44.922Z"
   },
   {
    "duration": 8,
    "start_time": "2025-03-24T05:41:44.934Z"
   },
   {
    "duration": 349,
    "start_time": "2025-03-24T05:41:44.944Z"
   },
   {
    "duration": 17,
    "start_time": "2025-03-24T05:41:45.295Z"
   },
   {
    "duration": 5,
    "start_time": "2025-03-24T05:41:45.313Z"
   },
   {
    "duration": 156,
    "start_time": "2025-03-24T05:41:45.319Z"
   },
   {
    "duration": 128,
    "start_time": "2025-03-24T05:41:45.477Z"
   },
   {
    "duration": 4,
    "start_time": "2025-03-24T05:41:45.611Z"
   },
   {
    "duration": 149,
    "start_time": "2025-03-24T05:41:45.616Z"
   },
   {
    "duration": 158,
    "start_time": "2025-03-24T05:41:45.766Z"
   },
   {
    "duration": 6,
    "start_time": "2025-03-24T05:41:45.925Z"
   },
   {
    "duration": 5,
    "start_time": "2025-03-24T05:41:45.932Z"
   },
   {
    "duration": 6,
    "start_time": "2025-03-24T05:41:45.938Z"
   },
   {
    "duration": 5,
    "start_time": "2025-03-24T05:41:45.946Z"
   },
   {
    "duration": 5,
    "start_time": "2025-03-24T05:41:45.952Z"
   },
   {
    "duration": 5,
    "start_time": "2025-03-24T05:41:45.962Z"
   },
   {
    "duration": 45,
    "start_time": "2025-03-24T05:41:45.968Z"
   },
   {
    "duration": 5,
    "start_time": "2025-03-24T05:41:46.014Z"
   },
   {
    "duration": 6,
    "start_time": "2025-03-24T05:41:46.020Z"
   },
   {
    "duration": 417,
    "start_time": "2025-03-24T05:41:46.028Z"
   },
   {
    "duration": 9,
    "start_time": "2025-03-24T05:41:46.447Z"
   },
   {
    "duration": 8,
    "start_time": "2025-03-24T05:41:46.458Z"
   },
   {
    "duration": 175,
    "start_time": "2025-04-01T00:48:23.882Z"
   },
   {
    "duration": 2173,
    "start_time": "2025-04-01T00:49:35.834Z"
   },
   {
    "duration": 35,
    "start_time": "2025-04-01T00:49:38.009Z"
   },
   {
    "duration": 12,
    "start_time": "2025-04-01T00:49:38.046Z"
   },
   {
    "duration": 9,
    "start_time": "2025-04-01T00:49:38.060Z"
   },
   {
    "duration": 3,
    "start_time": "2025-04-01T00:49:38.071Z"
   },
   {
    "duration": 10,
    "start_time": "2025-04-01T00:49:38.075Z"
   },
   {
    "duration": 6,
    "start_time": "2025-04-01T00:49:38.086Z"
   },
   {
    "duration": 4,
    "start_time": "2025-04-01T00:49:38.094Z"
   },
   {
    "duration": 43,
    "start_time": "2025-04-01T00:49:38.100Z"
   },
   {
    "duration": 3,
    "start_time": "2025-04-01T00:49:38.146Z"
   },
   {
    "duration": 3,
    "start_time": "2025-04-01T00:49:38.151Z"
   },
   {
    "duration": 8,
    "start_time": "2025-04-01T00:49:38.156Z"
   },
   {
    "duration": 7,
    "start_time": "2025-04-01T00:49:38.166Z"
   },
   {
    "duration": 3,
    "start_time": "2025-04-01T00:49:38.175Z"
   },
   {
    "duration": 4,
    "start_time": "2025-04-01T00:49:38.179Z"
   },
   {
    "duration": 10,
    "start_time": "2025-04-01T00:49:38.185Z"
   },
   {
    "duration": 49,
    "start_time": "2025-04-01T00:49:38.196Z"
   },
   {
    "duration": 4,
    "start_time": "2025-04-01T00:49:38.247Z"
   },
   {
    "duration": 4,
    "start_time": "2025-04-01T00:49:38.254Z"
   },
   {
    "duration": 9,
    "start_time": "2025-04-01T00:49:38.260Z"
   },
   {
    "duration": 339,
    "start_time": "2025-04-01T00:49:38.271Z"
   },
   {
    "duration": 4,
    "start_time": "2025-04-01T00:49:38.612Z"
   },
   {
    "duration": 242,
    "start_time": "2025-04-01T00:49:38.618Z"
   },
   {
    "duration": 7,
    "start_time": "2025-04-01T00:49:38.862Z"
   },
   {
    "duration": 3,
    "start_time": "2025-04-01T00:49:38.871Z"
   },
   {
    "duration": 10,
    "start_time": "2025-04-01T00:49:38.876Z"
   },
   {
    "duration": 10,
    "start_time": "2025-04-01T00:49:38.887Z"
   },
   {
    "duration": 326,
    "start_time": "2025-04-01T00:49:38.902Z"
   },
   {
    "duration": 18,
    "start_time": "2025-04-01T00:49:39.230Z"
   },
   {
    "duration": 4,
    "start_time": "2025-04-01T00:49:39.250Z"
   },
   {
    "duration": 161,
    "start_time": "2025-04-01T00:49:39.256Z"
   },
   {
    "duration": 204,
    "start_time": "2025-04-01T00:49:39.419Z"
   },
   {
    "duration": 5,
    "start_time": "2025-04-01T00:49:39.625Z"
   },
   {
    "duration": 136,
    "start_time": "2025-04-01T00:49:39.632Z"
   },
   {
    "duration": 176,
    "start_time": "2025-04-01T00:49:39.769Z"
   },
   {
    "duration": 7,
    "start_time": "2025-04-01T00:49:39.947Z"
   },
   {
    "duration": 6,
    "start_time": "2025-04-01T00:49:39.955Z"
   },
   {
    "duration": 6,
    "start_time": "2025-04-01T00:49:39.963Z"
   },
   {
    "duration": 5,
    "start_time": "2025-04-01T00:49:39.970Z"
   },
   {
    "duration": 4,
    "start_time": "2025-04-01T00:49:39.977Z"
   },
   {
    "duration": 6,
    "start_time": "2025-04-01T00:49:39.983Z"
   },
   {
    "duration": 5,
    "start_time": "2025-04-01T00:49:39.991Z"
   },
   {
    "duration": 45,
    "start_time": "2025-04-01T00:49:39.998Z"
   },
   {
    "duration": 6,
    "start_time": "2025-04-01T00:49:40.045Z"
   },
   {
    "duration": 425,
    "start_time": "2025-04-01T00:49:40.053Z"
   },
   {
    "duration": 401,
    "start_time": "2025-04-01T00:49:40.480Z"
   },
   {
    "duration": 8,
    "start_time": "2025-04-01T00:49:40.883Z"
   },
   {
    "duration": 2137,
    "start_time": "2025-04-01T05:02:31.435Z"
   },
   {
    "duration": 38,
    "start_time": "2025-04-01T05:02:33.574Z"
   },
   {
    "duration": 11,
    "start_time": "2025-04-01T05:02:33.613Z"
   },
   {
    "duration": 9,
    "start_time": "2025-04-01T05:02:33.627Z"
   },
   {
    "duration": 3,
    "start_time": "2025-04-01T05:02:33.637Z"
   },
   {
    "duration": 10,
    "start_time": "2025-04-01T05:02:33.642Z"
   },
   {
    "duration": 6,
    "start_time": "2025-04-01T05:02:33.654Z"
   },
   {
    "duration": 3,
    "start_time": "2025-04-01T05:02:33.662Z"
   },
   {
    "duration": 4,
    "start_time": "2025-04-01T05:02:33.666Z"
   },
   {
    "duration": 3,
    "start_time": "2025-04-01T05:02:33.672Z"
   },
   {
    "duration": 4,
    "start_time": "2025-04-01T05:02:33.676Z"
   },
   {
    "duration": 47,
    "start_time": "2025-04-01T05:02:33.682Z"
   },
   {
    "duration": 6,
    "start_time": "2025-04-01T05:02:33.731Z"
   },
   {
    "duration": 3,
    "start_time": "2025-04-01T05:02:33.741Z"
   },
   {
    "duration": 5,
    "start_time": "2025-04-01T05:02:33.745Z"
   },
   {
    "duration": 10,
    "start_time": "2025-04-01T05:02:33.751Z"
   },
   {
    "duration": 8,
    "start_time": "2025-04-01T05:02:33.763Z"
   },
   {
    "duration": 5,
    "start_time": "2025-04-01T05:02:33.773Z"
   },
   {
    "duration": 45,
    "start_time": "2025-04-01T05:02:33.779Z"
   },
   {
    "duration": 9,
    "start_time": "2025-04-01T05:02:33.826Z"
   },
   {
    "duration": 303,
    "start_time": "2025-04-01T05:02:33.837Z"
   },
   {
    "duration": 4,
    "start_time": "2025-04-01T05:02:34.142Z"
   },
   {
    "duration": 254,
    "start_time": "2025-04-01T05:02:34.148Z"
   },
   {
    "duration": 6,
    "start_time": "2025-04-01T05:02:34.404Z"
   },
   {
    "duration": 3,
    "start_time": "2025-04-01T05:02:34.423Z"
   },
   {
    "duration": 10,
    "start_time": "2025-04-01T05:02:34.428Z"
   },
   {
    "duration": 9,
    "start_time": "2025-04-01T05:02:34.439Z"
   },
   {
    "duration": 331,
    "start_time": "2025-04-01T05:02:34.450Z"
   },
   {
    "duration": 11,
    "start_time": "2025-04-01T05:02:34.783Z"
   },
   {
    "duration": 4,
    "start_time": "2025-04-01T05:02:34.796Z"
   },
   {
    "duration": 151,
    "start_time": "2025-04-01T05:02:34.801Z"
   },
   {
    "duration": 158,
    "start_time": "2025-04-01T05:02:34.954Z"
   },
   {
    "duration": 4,
    "start_time": "2025-04-01T05:02:35.114Z"
   },
   {
    "duration": 128,
    "start_time": "2025-04-01T05:02:35.120Z"
   },
   {
    "duration": 178,
    "start_time": "2025-04-01T05:02:35.250Z"
   },
   {
    "duration": 6,
    "start_time": "2025-04-01T05:02:35.430Z"
   },
   {
    "duration": 5,
    "start_time": "2025-04-01T05:02:35.438Z"
   },
   {
    "duration": 5,
    "start_time": "2025-04-01T05:02:35.445Z"
   },
   {
    "duration": 6,
    "start_time": "2025-04-01T05:02:35.451Z"
   },
   {
    "duration": 6,
    "start_time": "2025-04-01T05:02:35.458Z"
   },
   {
    "duration": 5,
    "start_time": "2025-04-01T05:02:35.468Z"
   },
   {
    "duration": 5,
    "start_time": "2025-04-01T05:02:35.475Z"
   },
   {
    "duration": 5,
    "start_time": "2025-04-01T05:02:35.524Z"
   },
   {
    "duration": 5,
    "start_time": "2025-04-01T05:02:35.531Z"
   },
   {
    "duration": 404,
    "start_time": "2025-04-01T05:02:35.537Z"
   },
   {
    "duration": 361,
    "start_time": "2025-04-01T05:02:35.942Z"
   },
   {
    "duration": 8,
    "start_time": "2025-04-01T05:02:36.304Z"
   },
   {
    "duration": 4,
    "start_time": "2025-04-01T05:06:51.165Z"
   },
   {
    "duration": 142,
    "start_time": "2025-04-01T05:06:53.689Z"
   },
   {
    "duration": 32,
    "start_time": "2025-04-01T05:09:40.933Z"
   },
   {
    "duration": 5,
    "start_time": "2025-04-01T05:09:59.600Z"
   },
   {
    "duration": 5,
    "start_time": "2025-04-01T05:10:27.250Z"
   },
   {
    "duration": 5,
    "start_time": "2025-04-01T05:10:41.399Z"
   },
   {
    "duration": 223,
    "start_time": "2025-04-01T05:15:18.093Z"
   },
   {
    "duration": 15,
    "start_time": "2025-04-01T05:15:21.434Z"
   },
   {
    "duration": 5,
    "start_time": "2025-04-01T05:15:25.060Z"
   },
   {
    "duration": 6,
    "start_time": "2025-04-01T05:16:36.503Z"
   },
   {
    "duration": 6,
    "start_time": "2025-04-01T05:16:45.776Z"
   },
   {
    "duration": 5,
    "start_time": "2025-04-01T05:16:56.832Z"
   },
   {
    "duration": 5,
    "start_time": "2025-04-01T05:17:07.770Z"
   },
   {
    "duration": 138,
    "start_time": "2025-04-01T05:17:11.794Z"
   },
   {
    "duration": 916,
    "start_time": "2025-04-01T05:29:11.982Z"
   },
   {
    "duration": 167,
    "start_time": "2025-04-01T05:31:22.376Z"
   },
   {
    "duration": 132,
    "start_time": "2025-04-01T05:31:44.594Z"
   },
   {
    "duration": 109,
    "start_time": "2025-04-01T05:31:56.342Z"
   },
   {
    "duration": 16,
    "start_time": "2025-04-01T05:44:18.152Z"
   },
   {
    "duration": 117,
    "start_time": "2025-04-01T05:44:30.337Z"
   },
   {
    "duration": 113,
    "start_time": "2025-04-01T05:45:40.860Z"
   },
   {
    "duration": 7,
    "start_time": "2025-04-01T05:49:36.419Z"
   },
   {
    "duration": 154,
    "start_time": "2025-04-01T05:50:04.168Z"
   },
   {
    "duration": 170,
    "start_time": "2025-04-01T05:54:01.655Z"
   },
   {
    "duration": 170,
    "start_time": "2025-04-01T05:54:15.058Z"
   },
   {
    "duration": 1100,
    "start_time": "2025-04-01T09:24:16.409Z"
   },
   {
    "duration": 217,
    "start_time": "2025-04-01T09:24:17.511Z"
   },
   {
    "duration": 77,
    "start_time": "2025-04-01T09:24:17.745Z"
   },
   {
    "duration": 85,
    "start_time": "2025-04-01T09:24:17.825Z"
   },
   {
    "duration": 4,
    "start_time": "2025-04-01T09:24:17.913Z"
   },
   {
    "duration": 13,
    "start_time": "2025-04-01T09:24:17.919Z"
   },
   {
    "duration": 78,
    "start_time": "2025-04-01T09:24:17.934Z"
   },
   {
    "duration": 2,
    "start_time": "2025-04-01T09:24:18.015Z"
   },
   {
    "duration": 3,
    "start_time": "2025-04-01T09:24:18.020Z"
   },
   {
    "duration": 4,
    "start_time": "2025-04-01T09:24:18.025Z"
   },
   {
    "duration": 78,
    "start_time": "2025-04-01T09:24:18.031Z"
   },
   {
    "duration": 11,
    "start_time": "2025-04-01T09:24:18.111Z"
   },
   {
    "duration": 7,
    "start_time": "2025-04-01T09:24:18.124Z"
   },
   {
    "duration": 75,
    "start_time": "2025-04-01T09:24:18.135Z"
   },
   {
    "duration": 5,
    "start_time": "2025-04-01T09:24:18.212Z"
   },
   {
    "duration": 11,
    "start_time": "2025-04-01T09:24:18.219Z"
   },
   {
    "duration": 78,
    "start_time": "2025-04-01T09:24:18.232Z"
   },
   {
    "duration": 5,
    "start_time": "2025-04-01T09:24:18.312Z"
   },
   {
    "duration": 5,
    "start_time": "2025-04-01T09:24:18.319Z"
   },
   {
    "duration": 85,
    "start_time": "2025-04-01T09:24:18.327Z"
   },
   {
    "duration": 1318,
    "start_time": "2025-04-01T09:24:18.414Z"
   },
   {
    "duration": 5,
    "start_time": "2025-04-01T09:24:19.734Z"
   },
   {
    "duration": 624,
    "start_time": "2025-04-01T09:24:19.810Z"
   },
   {
    "duration": 8,
    "start_time": "2025-04-01T09:24:20.509Z"
   },
   {
    "duration": 3,
    "start_time": "2025-04-01T09:24:20.519Z"
   },
   {
    "duration": 86,
    "start_time": "2025-04-01T09:24:20.524Z"
   },
   {
    "duration": 11,
    "start_time": "2025-04-01T09:24:20.612Z"
   },
   {
    "duration": 1199,
    "start_time": "2025-04-01T09:24:20.625Z"
   },
   {
    "duration": 84,
    "start_time": "2025-04-01T09:24:21.826Z"
   },
   {
    "duration": 4,
    "start_time": "2025-04-01T09:24:21.913Z"
   },
   {
    "duration": 7,
    "start_time": "2025-04-01T09:24:21.919Z"
   },
   {
    "duration": 487,
    "start_time": "2025-04-01T09:24:21.928Z"
   },
   {
    "duration": 397,
    "start_time": "2025-04-01T09:24:22.417Z"
   },
   {
    "duration": 4,
    "start_time": "2025-04-01T09:24:22.817Z"
   },
   {
    "duration": 389,
    "start_time": "2025-04-01T09:24:22.824Z"
   },
   {
    "duration": 494,
    "start_time": "2025-04-01T09:24:23.215Z"
   },
   {
    "duration": 743,
    "start_time": "2025-04-01T09:24:23.711Z"
   },
   {
    "duration": 6,
    "start_time": "2025-04-01T09:24:24.509Z"
   },
   {
    "duration": 5,
    "start_time": "2025-04-01T09:24:24.517Z"
   },
   {
    "duration": 8,
    "start_time": "2025-04-01T09:24:24.524Z"
   },
   {
    "duration": 70,
    "start_time": "2025-04-01T09:24:24.539Z"
   },
   {
    "duration": 6,
    "start_time": "2025-04-01T09:24:24.612Z"
   },
   {
    "duration": 5,
    "start_time": "2025-04-01T09:24:24.620Z"
   },
   {
    "duration": 6,
    "start_time": "2025-04-01T09:24:24.627Z"
   },
   {
    "duration": 5,
    "start_time": "2025-04-01T09:24:24.635Z"
   },
   {
    "duration": 70,
    "start_time": "2025-04-01T09:24:24.642Z"
   },
   {
    "duration": 819,
    "start_time": "2025-04-01T09:24:24.714Z"
   },
   {
    "duration": 480,
    "start_time": "2025-04-01T09:24:25.537Z"
   },
   {
    "duration": 9,
    "start_time": "2025-04-01T09:24:26.019Z"
   },
   {
    "duration": 184,
    "start_time": "2025-04-01T14:16:02.977Z"
   },
   {
    "duration": 2161,
    "start_time": "2025-04-01T14:16:16.218Z"
   },
   {
    "duration": 36,
    "start_time": "2025-04-01T14:16:18.381Z"
   },
   {
    "duration": 12,
    "start_time": "2025-04-01T14:16:18.418Z"
   },
   {
    "duration": 9,
    "start_time": "2025-04-01T14:16:18.431Z"
   },
   {
    "duration": 3,
    "start_time": "2025-04-01T14:16:18.442Z"
   },
   {
    "duration": 11,
    "start_time": "2025-04-01T14:16:18.447Z"
   },
   {
    "duration": 6,
    "start_time": "2025-04-01T14:16:18.459Z"
   },
   {
    "duration": 22,
    "start_time": "2025-04-01T14:16:18.466Z"
   },
   {
    "duration": 3,
    "start_time": "2025-04-01T14:16:18.490Z"
   },
   {
    "duration": 3,
    "start_time": "2025-04-01T14:16:18.495Z"
   },
   {
    "duration": 4,
    "start_time": "2025-04-01T14:16:18.500Z"
   },
   {
    "duration": 7,
    "start_time": "2025-04-01T14:16:18.506Z"
   },
   {
    "duration": 6,
    "start_time": "2025-04-01T14:16:18.515Z"
   },
   {
    "duration": 4,
    "start_time": "2025-04-01T14:16:18.525Z"
   },
   {
    "duration": 3,
    "start_time": "2025-04-01T14:16:18.530Z"
   },
   {
    "duration": 52,
    "start_time": "2025-04-01T14:16:18.535Z"
   },
   {
    "duration": 9,
    "start_time": "2025-04-01T14:16:18.588Z"
   },
   {
    "duration": 4,
    "start_time": "2025-04-01T14:16:18.599Z"
   },
   {
    "duration": 5,
    "start_time": "2025-04-01T14:16:18.604Z"
   },
   {
    "duration": 9,
    "start_time": "2025-04-01T14:16:18.611Z"
   },
   {
    "duration": 295,
    "start_time": "2025-04-01T14:16:18.621Z"
   },
   {
    "duration": 4,
    "start_time": "2025-04-01T14:16:18.917Z"
   },
   {
    "duration": 235,
    "start_time": "2025-04-01T14:16:18.922Z"
   },
   {
    "duration": 6,
    "start_time": "2025-04-01T14:16:19.159Z"
   },
   {
    "duration": 20,
    "start_time": "2025-04-01T14:16:19.167Z"
   },
   {
    "duration": 9,
    "start_time": "2025-04-01T14:16:19.189Z"
   },
   {
    "duration": 9,
    "start_time": "2025-04-01T14:16:19.202Z"
   },
   {
    "duration": 293,
    "start_time": "2025-04-01T14:16:19.213Z"
   },
   {
    "duration": 12,
    "start_time": "2025-04-01T14:16:19.508Z"
   },
   {
    "duration": 4,
    "start_time": "2025-04-01T14:16:19.521Z"
   },
   {
    "duration": 4,
    "start_time": "2025-04-01T14:16:19.527Z"
   },
   {
    "duration": 159,
    "start_time": "2025-04-01T14:16:19.532Z"
   },
   {
    "duration": 190,
    "start_time": "2025-04-01T14:16:19.693Z"
   },
   {
    "duration": 5,
    "start_time": "2025-04-01T14:16:19.885Z"
   },
   {
    "duration": 132,
    "start_time": "2025-04-01T14:16:19.891Z"
   },
   {
    "duration": 130,
    "start_time": "2025-04-01T14:16:20.025Z"
   },
   {
    "duration": 167,
    "start_time": "2025-04-01T14:16:20.157Z"
   },
   {
    "duration": 6,
    "start_time": "2025-04-01T14:16:20.325Z"
   },
   {
    "duration": 5,
    "start_time": "2025-04-01T14:16:20.332Z"
   },
   {
    "duration": 5,
    "start_time": "2025-04-01T14:16:20.339Z"
   },
   {
    "duration": 5,
    "start_time": "2025-04-01T14:16:20.348Z"
   },
   {
    "duration": 33,
    "start_time": "2025-04-01T14:16:20.355Z"
   },
   {
    "duration": 5,
    "start_time": "2025-04-01T14:16:20.390Z"
   },
   {
    "duration": 5,
    "start_time": "2025-04-01T14:16:20.398Z"
   },
   {
    "duration": 6,
    "start_time": "2025-04-01T14:16:20.406Z"
   },
   {
    "duration": 6,
    "start_time": "2025-04-01T14:16:20.413Z"
   },
   {
    "duration": 428,
    "start_time": "2025-04-01T14:16:20.421Z"
   },
   {
    "duration": 344,
    "start_time": "2025-04-01T14:16:20.851Z"
   },
   {
    "duration": 8,
    "start_time": "2025-04-01T14:16:21.197Z"
   },
   {
    "duration": 135,
    "start_time": "2025-04-01T14:16:48.292Z"
   },
   {
    "duration": 4,
    "start_time": "2025-04-01T14:17:09.935Z"
   }
  ],
  "kernelspec": {
   "display_name": "Python 3",
   "language": "python",
   "name": "python3"
  },
  "language_info": {
   "codemirror_mode": {
    "name": "ipython",
    "version": 3
   },
   "file_extension": ".py",
   "mimetype": "text/x-python",
   "name": "python",
   "nbconvert_exporter": "python",
   "pygments_lexer": "ipython3",
   "version": "3.10.6"
  },
  "toc": {
   "base_numbering": 1,
   "nav_menu": {},
   "number_sections": true,
   "sideBar": true,
   "skip_h1_title": true,
   "title_cell": "Table of Contents",
   "title_sidebar": "Contents",
   "toc_cell": false,
   "toc_position": {},
   "toc_section_display": true,
   "toc_window_display": false
  }
 },
 "nbformat": 4,
 "nbformat_minor": 2
}
